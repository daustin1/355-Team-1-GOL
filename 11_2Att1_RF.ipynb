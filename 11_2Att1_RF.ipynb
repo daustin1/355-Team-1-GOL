{
  "nbformat": 4,
  "nbformat_minor": 0,
  "metadata": {
    "colab": {
      "name": "10_28Att1_RF.ipynb",
      "provenance": [],
      "collapsed_sections": [],
      "machine_shape": "hm",
      "include_colab_link": true
    },
    "kernelspec": {
      "name": "python3",
      "display_name": "Python 3"
    },
    "accelerator": "GPU"
  },
  "cells": [
    {
      "cell_type": "markdown",
      "metadata": {
        "id": "view-in-github",
        "colab_type": "text"
      },
      "source": [
        "<a href=\"https://colab.research.google.com/github/daustin1/355-Team-1-GOL/blob/master/11_2Att1_RF.ipynb\" target=\"_parent\"><img src=\"https://colab.research.google.com/assets/colab-badge.svg\" alt=\"Open In Colab\"/></a>"
      ]
    },
    {
      "cell_type": "code",
      "metadata": {
        "id": "ZpEjNia7byau",
        "colab_type": "code",
        "colab": {}
      },
      "source": [
        "#References\n",
        "#-------------------------------------------------------\n",
        "#https://stackoverflow.com/questions/25009284/how-to-plot-roc-curve-in-python\n",
        "#https://www.kaggle.com/dansbecker/underfitting-and-overfitting\n",
        "#https://towardsdatascience.com/precision-vs-recall-386cf9f89488\n",
        "#https://www.dataschool.io/simple-guide-to-confusion-matrix-terminology/\n",
        "#https://developers.google.com/machine-learning/crash-course/classification/roc-and-auc\n",
        "#https://www.kaggle.com/daustin1/step-by-step-diabetes-classification-knn-detailed/edit\n",
        "#https://www.geeksforgeeks.org/best-python-libraries-for-machine-learning/\n",
        "#https://scikit-learn.org/stable/auto_examples/model_selection/plot_confusion_matrix.html#sphx-glr-auto-examples-model-selection-plot-confusion-matrix-py\n",
        "#https://scikit-learn.org/stable/modules/generated/sklearn.metrics.confusion_matrix.html\n",
        "#http://www.datasciencemadesimple.com/drop-delete-rows-conditions-python-pandas/\n",
        "#https://github.com/antaloaalonso/Classification-Model-YT-Video/blob/master/Classification%20Model%20on%20breast%20cancer%20Dataset.ipynb\n",
        "#https://medium.com/@harshdeepsingh_35448/understanding-random-forests-aa0ccecdbbbb\n",
        "#https://www.datacamp.com/community/tutorials/random-forests-classifier-python\n",
        "#https://scikit-learn.org/stable/modules/generated/sklearn.ensemble.RandomForestRegressor.html\n",
        "#https://towardsdatascience.com/an-implementation-and-explanation-of-the-random-forest-in-python-77bf308a9b76\n",
        "\n",
        "#-------------------------------------------------------\n",
        "#Title: RF \n",
        "#Author: David Austin\n",
        "#Purpose: Thesis Work\n",
        "#Created: Oct 7, 2019\n",
        "#Revised: Nov 2,2019\n",
        "#Advisor: Dr. Hong Liu\n",
        "#-------------------------------------------------------"
      ],
      "execution_count": 0,
      "outputs": []
    },
    {
      "cell_type": "code",
      "metadata": {
        "id": "UmRoFfascDn7",
        "colab_type": "code",
        "colab": {}
      },
      "source": [
        "import numpy as np\n",
        "import pandas as pd\n",
        "from numpy import loadtxt\n",
        "\n",
        "from numpy import array\n",
        "\n",
        "import matplotlib.pyplot as plt\n",
        "import math\n",
        "from sklearn.preprocessing import MinMaxScaler\n",
        "\n",
        "from sklearn.ensemble import RandomForestClassifier\n",
        "\n",
        "from sklearn.metrics import auc, roc_curve, confusion_matrix, accuracy_score,precision_recall_curve,f1_score\n"
      ],
      "execution_count": 0,
      "outputs": []
    },
    {
      "cell_type": "markdown",
      "metadata": {
        "id": "vBxEFNZzdB0c",
        "colab_type": "text"
      },
      "source": [
        "Read in file"
      ]
    },
    {
      "cell_type": "code",
      "metadata": {
        "id": "ez0_Ys7sc_AW",
        "colab_type": "code",
        "outputId": "bfded768-f701-40a4-a58e-0aa278f9ff24",
        "colab": {
          "base_uri": "https://localhost:8080/",
          "height": 237
        }
      },
      "source": [
        "#Read in csv, set up x and y variables\n",
        "#-------------------------------------------------------\n",
        "#Read in Data (CSV)\n",
        "fi = pd.read_csv(\"/Untitled Folder/nonclean0627_unCondAllCA1S1.csv\")\n",
        "fi.head(6)\n"
      ],
      "execution_count": 74,
      "outputs": [
        {
          "output_type": "execute_result",
          "data": {
            "text/plain": [
              "   type     sendTime  sender  messageID        pos_0        pos_1     spd_0  \\\n",
              "0     3  25200.00936      85       2081  3594.664563  5665.135272  1.365599   \n",
              "1     3  25200.02011      91       2452  3597.065839  5626.300132  2.669000   \n",
              "2     3  25200.03066     931       3619  3589.664305  5703.861398 -1.355341   \n",
              "3     3  25200.04402     961       4645  3631.304771  5229.921448 -4.466323   \n",
              "4     3  25200.06986     313       7676  5560.000000  5820.000000 -0.019531   \n",
              "5     3  25200.24980     109      13575  3600.326908  5686.981738  1.289000   \n",
              "\n",
              "       spd_1  receiver  AttackType  MLPrediction  \n",
              "0 -31.771078         7           0             0  \n",
              "1 -31.706486         7           0             0  \n",
              "2  32.461479         7           0             0  \n",
              "3  28.634010         7           0             0  \n",
              "4 -33.487743         7           1             0  \n",
              "5 -30.043390         7           0             0  "
            ],
            "text/html": [
              "<div>\n",
              "<style scoped>\n",
              "    .dataframe tbody tr th:only-of-type {\n",
              "        vertical-align: middle;\n",
              "    }\n",
              "\n",
              "    .dataframe tbody tr th {\n",
              "        vertical-align: top;\n",
              "    }\n",
              "\n",
              "    .dataframe thead th {\n",
              "        text-align: right;\n",
              "    }\n",
              "</style>\n",
              "<table border=\"1\" class=\"dataframe\">\n",
              "  <thead>\n",
              "    <tr style=\"text-align: right;\">\n",
              "      <th></th>\n",
              "      <th>type</th>\n",
              "      <th>sendTime</th>\n",
              "      <th>sender</th>\n",
              "      <th>messageID</th>\n",
              "      <th>pos_0</th>\n",
              "      <th>pos_1</th>\n",
              "      <th>spd_0</th>\n",
              "      <th>spd_1</th>\n",
              "      <th>receiver</th>\n",
              "      <th>AttackType</th>\n",
              "      <th>MLPrediction</th>\n",
              "    </tr>\n",
              "  </thead>\n",
              "  <tbody>\n",
              "    <tr>\n",
              "      <td>0</td>\n",
              "      <td>3</td>\n",
              "      <td>25200.00936</td>\n",
              "      <td>85</td>\n",
              "      <td>2081</td>\n",
              "      <td>3594.664563</td>\n",
              "      <td>5665.135272</td>\n",
              "      <td>1.365599</td>\n",
              "      <td>-31.771078</td>\n",
              "      <td>7</td>\n",
              "      <td>0</td>\n",
              "      <td>0</td>\n",
              "    </tr>\n",
              "    <tr>\n",
              "      <td>1</td>\n",
              "      <td>3</td>\n",
              "      <td>25200.02011</td>\n",
              "      <td>91</td>\n",
              "      <td>2452</td>\n",
              "      <td>3597.065839</td>\n",
              "      <td>5626.300132</td>\n",
              "      <td>2.669000</td>\n",
              "      <td>-31.706486</td>\n",
              "      <td>7</td>\n",
              "      <td>0</td>\n",
              "      <td>0</td>\n",
              "    </tr>\n",
              "    <tr>\n",
              "      <td>2</td>\n",
              "      <td>3</td>\n",
              "      <td>25200.03066</td>\n",
              "      <td>931</td>\n",
              "      <td>3619</td>\n",
              "      <td>3589.664305</td>\n",
              "      <td>5703.861398</td>\n",
              "      <td>-1.355341</td>\n",
              "      <td>32.461479</td>\n",
              "      <td>7</td>\n",
              "      <td>0</td>\n",
              "      <td>0</td>\n",
              "    </tr>\n",
              "    <tr>\n",
              "      <td>3</td>\n",
              "      <td>3</td>\n",
              "      <td>25200.04402</td>\n",
              "      <td>961</td>\n",
              "      <td>4645</td>\n",
              "      <td>3631.304771</td>\n",
              "      <td>5229.921448</td>\n",
              "      <td>-4.466323</td>\n",
              "      <td>28.634010</td>\n",
              "      <td>7</td>\n",
              "      <td>0</td>\n",
              "      <td>0</td>\n",
              "    </tr>\n",
              "    <tr>\n",
              "      <td>4</td>\n",
              "      <td>3</td>\n",
              "      <td>25200.06986</td>\n",
              "      <td>313</td>\n",
              "      <td>7676</td>\n",
              "      <td>5560.000000</td>\n",
              "      <td>5820.000000</td>\n",
              "      <td>-0.019531</td>\n",
              "      <td>-33.487743</td>\n",
              "      <td>7</td>\n",
              "      <td>1</td>\n",
              "      <td>0</td>\n",
              "    </tr>\n",
              "    <tr>\n",
              "      <td>5</td>\n",
              "      <td>3</td>\n",
              "      <td>25200.24980</td>\n",
              "      <td>109</td>\n",
              "      <td>13575</td>\n",
              "      <td>3600.326908</td>\n",
              "      <td>5686.981738</td>\n",
              "      <td>1.289000</td>\n",
              "      <td>-30.043390</td>\n",
              "      <td>7</td>\n",
              "      <td>0</td>\n",
              "      <td>0</td>\n",
              "    </tr>\n",
              "  </tbody>\n",
              "</table>\n",
              "</div>"
            ]
          },
          "metadata": {
            "tags": []
          },
          "execution_count": 74
        }
      ]
    },
    {
      "cell_type": "code",
      "metadata": {
        "id": "vgY6oroDdFps",
        "colab_type": "code",
        "outputId": "79c2ac97-dd4c-4181-e560-a88af2288349",
        "colab": {
          "base_uri": "https://localhost:8080/",
          "height": 237
        }
      },
      "source": [
        "#Create copy of original data without extra columns\n",
        "modFi = fi.drop(columns=['type','sendTime','messageID','MLPrediction','sender','receiver'])\n",
        "clfi = (fi[fi.AttackType != 1])\n",
        "atfi = (fi[fi.AttackType != 0])\n",
        "#Setup x and y variables (Features vs target)\n",
        "y=fi['AttackType']\n",
        "#Drop un-necessary features from X\n",
        "x=fi.drop(columns=['type','sendTime','messageID','AttackType','MLPrediction','sender','receiver'])\n",
        "#Display first six values in x\n",
        "x.head(6)"
      ],
      "execution_count": 75,
      "outputs": [
        {
          "output_type": "execute_result",
          "data": {
            "text/plain": [
              "         pos_0        pos_1     spd_0      spd_1\n",
              "0  3594.664563  5665.135272  1.365599 -31.771078\n",
              "1  3597.065839  5626.300132  2.669000 -31.706486\n",
              "2  3589.664305  5703.861398 -1.355341  32.461479\n",
              "3  3631.304771  5229.921448 -4.466323  28.634010\n",
              "4  5560.000000  5820.000000 -0.019531 -33.487743\n",
              "5  3600.326908  5686.981738  1.289000 -30.043390"
            ],
            "text/html": [
              "<div>\n",
              "<style scoped>\n",
              "    .dataframe tbody tr th:only-of-type {\n",
              "        vertical-align: middle;\n",
              "    }\n",
              "\n",
              "    .dataframe tbody tr th {\n",
              "        vertical-align: top;\n",
              "    }\n",
              "\n",
              "    .dataframe thead th {\n",
              "        text-align: right;\n",
              "    }\n",
              "</style>\n",
              "<table border=\"1\" class=\"dataframe\">\n",
              "  <thead>\n",
              "    <tr style=\"text-align: right;\">\n",
              "      <th></th>\n",
              "      <th>pos_0</th>\n",
              "      <th>pos_1</th>\n",
              "      <th>spd_0</th>\n",
              "      <th>spd_1</th>\n",
              "    </tr>\n",
              "  </thead>\n",
              "  <tbody>\n",
              "    <tr>\n",
              "      <td>0</td>\n",
              "      <td>3594.664563</td>\n",
              "      <td>5665.135272</td>\n",
              "      <td>1.365599</td>\n",
              "      <td>-31.771078</td>\n",
              "    </tr>\n",
              "    <tr>\n",
              "      <td>1</td>\n",
              "      <td>3597.065839</td>\n",
              "      <td>5626.300132</td>\n",
              "      <td>2.669000</td>\n",
              "      <td>-31.706486</td>\n",
              "    </tr>\n",
              "    <tr>\n",
              "      <td>2</td>\n",
              "      <td>3589.664305</td>\n",
              "      <td>5703.861398</td>\n",
              "      <td>-1.355341</td>\n",
              "      <td>32.461479</td>\n",
              "    </tr>\n",
              "    <tr>\n",
              "      <td>3</td>\n",
              "      <td>3631.304771</td>\n",
              "      <td>5229.921448</td>\n",
              "      <td>-4.466323</td>\n",
              "      <td>28.634010</td>\n",
              "    </tr>\n",
              "    <tr>\n",
              "      <td>4</td>\n",
              "      <td>5560.000000</td>\n",
              "      <td>5820.000000</td>\n",
              "      <td>-0.019531</td>\n",
              "      <td>-33.487743</td>\n",
              "    </tr>\n",
              "    <tr>\n",
              "      <td>5</td>\n",
              "      <td>3600.326908</td>\n",
              "      <td>5686.981738</td>\n",
              "      <td>1.289000</td>\n",
              "      <td>-30.043390</td>\n",
              "    </tr>\n",
              "  </tbody>\n",
              "</table>\n",
              "</div>"
            ]
          },
          "metadata": {
            "tags": []
          },
          "execution_count": 75
        }
      ]
    },
    {
      "cell_type": "code",
      "metadata": {
        "id": "z_e_2eeTdfN9",
        "colab_type": "code",
        "outputId": "c720ee93-0abe-4228-c543-399e24b05078",
        "colab": {
          "base_uri": "https://localhost:8080/",
          "height": 151
        }
      },
      "source": [
        "#Display first six values in y\n",
        "y.head(6)"
      ],
      "execution_count": 76,
      "outputs": [
        {
          "output_type": "execute_result",
          "data": {
            "text/plain": [
              "0    0\n",
              "1    0\n",
              "2    0\n",
              "3    0\n",
              "4    1\n",
              "5    0\n",
              "Name: AttackType, dtype: int64"
            ]
          },
          "metadata": {
            "tags": []
          },
          "execution_count": 76
        }
      ]
    },
    {
      "cell_type": "code",
      "metadata": {
        "id": "LQAoqRCkXLm-",
        "colab_type": "code",
        "outputId": "722466be-2129-4767-baaf-4a0102f532e0",
        "colab": {
          "base_uri": "https://localhost:8080/",
          "height": 350
        }
      },
      "source": [
        "#Visualize the Amount of Score (1) vs (0)\n",
        "#-------------------------------------------------------\n",
        "\n",
        "pd.value_counts(fi['AttackType']).plot.bar()\n",
        "plt.title('Attacker Class Histogram')\n",
        "plt.xlabel('Class')\n",
        "plt.ylabel('Freq')\n",
        "fi['AttackType'].value_counts()"
      ],
      "execution_count": 77,
      "outputs": [
        {
          "output_type": "execute_result",
          "data": {
            "text/plain": [
              "0    453692\n",
              "1     47142\n",
              "Name: AttackType, dtype: int64"
            ]
          },
          "metadata": {
            "tags": []
          },
          "execution_count": 77
        },
        {
          "output_type": "display_data",
          "data": {
            "text/plain": [
              "<Figure size 432x288 with 1 Axes>"
            ],
            "image/png": "[encoded data removed]"
          },
          "metadata": {
            "tags": [],
            "needs_background": "light"
          }
        }
      ]
    },
    {
      "cell_type": "code",
      "metadata": {
        "id": "L7ViHy9SXmEy",
        "colab_type": "code",
        "outputId": "6beafa52-101f-4e21-e54f-ff5a5f231836",
        "colab": {
          "base_uri": "https://localhost:8080/",
          "height": 36
        }
      },
      "source": [
        "(47142/(453592+47142))*100"
      ],
      "execution_count": 78,
      "outputs": [
        {
          "output_type": "execute_result",
          "data": {
            "text/plain": [
              "9.414579397444552"
            ]
          },
          "metadata": {
            "tags": []
          },
          "execution_count": 78
        }
      ]
    },
    {
      "cell_type": "markdown",
      "metadata": {
        "id": "cWVoN83VdL8j",
        "colab_type": "text"
      },
      "source": [
        "Split the data"
      ]
    },
    {
      "cell_type": "code",
      "metadata": {
        "id": "Rb2_v2GNdOAt",
        "colab_type": "code",
        "colab": {}
      },
      "source": [
        "#Import the correct method \n",
        "#-------------------------------------------------------\n",
        "from sklearn.model_selection import train_test_split\n",
        "#Split the data into test and training. Do a 70% training and 30% testing. Split values as are in dataset (stratify)\n",
        "#-------------------------------------------------------\n",
        "X_train, X_test, y_train, y_test = train_test_split(x,y,test_size=.30,random_state=42,stratify=y,shuffle=True)"
      ],
      "execution_count": 0,
      "outputs": []
    },
    {
      "cell_type": "code",
      "metadata": {
        "id": "JtTSNxc4dP-Y",
        "colab_type": "code",
        "outputId": "711154a7-240e-484d-b526-e60ce093ca56",
        "colab": {
          "base_uri": "https://localhost:8080/",
          "height": 36
        }
      },
      "source": [
        "#Visualize shape of training vs testing data\n",
        "print(X_train.shape, X_test.shape, y_train.shape, y_test.shape)"
      ],
      "execution_count": 80,
      "outputs": [
        {
          "output_type": "stream",
          "text": [
            "(350583, 4) (150251, 4) (350583,) (150251,)\n"
          ],
          "name": "stdout"
        }
      ]
    },
    {
      "cell_type": "markdown",
      "metadata": {
        "id": "6s2B-ExmeU-n",
        "colab_type": "text"
      },
      "source": [
        "To Ensure Proper Training. Must only SMOTE on Training data\n"
      ]
    },
    {
      "cell_type": "markdown",
      "metadata": {
        "id": "yUtmQwCNdTd4",
        "colab_type": "text"
      },
      "source": [
        "*Fit* Data using Random Forest (RF)\n",
        "\n",
        "```\n",
        "# This is formatted as code\n",
        "```\n",
        "\n",
        "\n"
      ]
    },
    {
      "cell_type": "code",
      "metadata": {
        "id": "tiIINlYtNS2S",
        "colab_type": "code",
        "outputId": "359b2fbd-cec9-454b-bb6c-3033a265c7bb",
        "colab": {
          "base_uri": "https://localhost:8080/",
          "height": 151
        }
      },
      "source": [
        "rf=RandomForestClassifier(n_estimators=50)\n",
        "rf.fit(X_train,y_train)"
      ],
      "execution_count": 81,
      "outputs": [
        {
          "output_type": "execute_result",
          "data": {
            "text/plain": [
              "RandomForestClassifier(bootstrap=True, class_weight=None, criterion='gini',\n",
              "                       max_depth=None, max_features='auto', max_leaf_nodes=None,\n",
              "                       min_impurity_decrease=0.0, min_impurity_split=None,\n",
              "                       min_samples_leaf=1, min_samples_split=2,\n",
              "                       min_weight_fraction_leaf=0.0, n_estimators=50,\n",
              "                       n_jobs=None, oob_score=False, random_state=None,\n",
              "                       verbose=0, warm_start=False)"
            ]
          },
          "metadata": {
            "tags": []
          },
          "execution_count": 81
        }
      ]
    },
    {
      "cell_type": "code",
      "metadata": {
        "id": "SLLmzmC6dW9t",
        "colab_type": "code",
        "colab": {}
      },
      "source": [
        "#To Verify Test Data, must tranform with same scaling as training used\n",
        "#-----------------------------------------------------------\n",
        "\n",
        "y_pred = rf.predict(X_test)\n",
        "y_pred_prob = rf.predict_proba(X_test)[:,1]"
      ],
      "execution_count": 0,
      "outputs": []
    },
    {
      "cell_type": "code",
      "metadata": {
        "id": "hBFsX8xf-YHY",
        "colab_type": "code",
        "outputId": "71759a0d-4f4f-4bc6-8071-1fad7c5bc190",
        "colab": {
          "base_uri": "https://localhost:8080/",
          "height": 55
        }
      },
      "source": [
        "#Print Confusion Matrix of Data \n",
        "#-----------------------------------------------------------\n",
        "\n",
        "print(confusion_matrix(y_test, y_pred))"
      ],
      "execution_count": 83,
      "outputs": [
        {
          "output_type": "stream",
          "text": [
            "[[136108      0]\n",
            " [     0  14143]]\n"
          ],
          "name": "stdout"
        }
      ]
    },
    {
      "cell_type": "code",
      "metadata": {
        "id": "Z1RYfPNilzPs",
        "colab_type": "code",
        "outputId": "acc39532-20a3-45d0-bec3-945c8f947329",
        "colab": {
          "base_uri": "https://localhost:8080/",
          "height": 190
        }
      },
      "source": [
        "#The classification report shows the precision, recall, f1 score and accuracy of the model and each output case\n",
        "#-----------------------------------------------------------\n",
        "\n",
        "from sklearn.metrics import classification_report\n",
        "print(classification_report(y_test,y_pred))"
      ],
      "execution_count": 84,
      "outputs": [
        {
          "output_type": "stream",
          "text": [
            "              precision    recall  f1-score   support\n",
            "\n",
            "           0       1.00      1.00      1.00    136108\n",
            "           1       1.00      1.00      1.00     14143\n",
            "\n",
            "    accuracy                           1.00    150251\n",
            "   macro avg       1.00      1.00      1.00    150251\n",
            "weighted avg       1.00      1.00      1.00    150251\n",
            "\n"
          ],
          "name": "stdout"
        }
      ]
    },
    {
      "cell_type": "markdown",
      "metadata": {
        "id": "2ga9pFwEgTGD",
        "colab_type": "text"
      },
      "source": [
        "Plot ROC"
      ]
    },
    {
      "cell_type": "code",
      "metadata": {
        "id": "RuYYRgPVnkIt",
        "colab_type": "code",
        "outputId": "3f5406bd-c01e-4e0c-86c9-2df87bf93065",
        "colab": {
          "base_uri": "https://localhost:8080/",
          "height": 314
        }
      },
      "source": [
        "#Ref: \n",
        "#https://github.com/antaloaalonso/Classification-Model-YT-Video/blob/master/Classification%20Model%20on%20breast%20cancer%20Dataset.ipynb\n",
        "#-----------------------------------------------------------\n",
        "#ROC Curve\n",
        "# AUC score of testing data\n",
        "#-----------------------------------------------------------\n",
        "\n",
        "fpr_keras, tpr_keras, thresholds_keras = roc_curve(y_test,y_pred_prob)\n",
        "auc_keras = auc(fpr_keras, tpr_keras)\n",
        "print('Testing data AUC: ', auc_keras)\n",
        "\n",
        "plt.figure(1)\n",
        "plt.plot([0, 1], [0, 1], 'k--')\n",
        "plt.plot(fpr_keras, tpr_keras, label='Keras (area = {:.3f})'.format(auc_keras))\n",
        "plt.xlabel('False positive rate')\n",
        "plt.ylabel('True positive rate')\n",
        "plt.title('ROC curve')\n",
        "plt.legend(loc='best')\n",
        "#plt.show()\n",
        "plt.savefig(\"/Untitled Folder/11_2Att1RFROC.png\")"
      ],
      "execution_count": 85,
      "outputs": [
        {
          "output_type": "stream",
          "text": [
            "Testing data AUC:  1.0\n"
          ],
          "name": "stdout"
        },
        {
          "output_type": "display_data",
          "data": {
            "text/plain": [
              "<Figure size 432x288 with 1 Axes>"
            ],
            "image/png": "[encoded data removed]"
          },
          "metadata": {
            "tags": [],
            "needs_background": "light"
          }
        }
      ]
    },
    {
      "cell_type": "code",
      "metadata": {
        "id": "yWH9U-y_nkuK",
        "colab_type": "code",
        "outputId": "7927e50a-8831-4e59-fc1a-b932d4486f4e",
        "colab": {
          "base_uri": "https://localhost:8080/",
          "height": 295
        }
      },
      "source": [
        "#Ref: \n",
        "#https://github.com/antaloaalonso/Classification-Model-YT-Video/blob/master/Classification%20Model%20on%20breast%20cancer%20Dataset.ipynb\n",
        "#-----------------------------------------------------------\n",
        "#Precision and Recall Curve\n",
        "#-----------------------------------------------------------\n",
        "\n",
        "precision, recall, thresholds = precision_recall_curve(y_test, y_pred_prob,pos_label=1)\n",
        "\n",
        "plt.figure(1)\n",
        "plt.plot([0,1,1], [1,1,0], 'k--')\n",
        "plt.plot(recall, precision, label='Keras (area = {:.3f})'.format(auc_keras))\n",
        "plt.xlabel('Recall')\n",
        "plt.ylabel('Precision')\n",
        "plt.title('Precision vs Recall Curve')\n",
        "plt.legend(loc='best')\n",
        "#plt.show()\n",
        "plt.savefig('/Untitled Folder/11_2Att1RF_PRRCurve.png')"
      ],
      "execution_count": 86,
      "outputs": [
        {
          "output_type": "display_data",
          "data": {
            "text/plain": [
              "<Figure size 432x288 with 1 Axes>"
            ],
            "image/png": "[encoded data removed]"
          },
          "metadata": {
            "tags": [],
            "needs_background": "light"
          }
        }
      ]
    },
    {
      "cell_type": "code",
      "metadata": {
        "id": "_05inNYujb3F",
        "colab_type": "code",
        "outputId": "dd026e5c-d6fe-4aee-db5f-4da90151af88",
        "colab": {
          "base_uri": "https://localhost:8080/",
          "height": 36
        }
      },
      "source": [
        "print(np.unique(y_pred))"
      ],
      "execution_count": 87,
      "outputs": [
        {
          "output_type": "stream",
          "text": [
            "[0 1]\n"
          ],
          "name": "stdout"
        }
      ]
    },
    {
      "cell_type": "code",
      "metadata": {
        "id": "jjjPjzwGa_pe",
        "colab_type": "code",
        "colab": {}
      },
      "source": [
        "#Random Walk Data Generated Based on Distributions of Dataset. Testing of non / attackers"
      ],
      "execution_count": 0,
      "outputs": []
    },
    {
      "cell_type": "code",
      "metadata": {
        "id": "l347IgnFVy1s",
        "colab_type": "code",
        "colab": {}
      },
      "source": [
        "mynonattgen = (\n",
        "[[5537.185451,5499.763465,4.294962976,4.961712227],\n",
        "[5560.269413,5481.726369,23.08396196,-18.03709508],\n",
        "[5566.87113,5450.496018,6.601717035,-31.23035156],\n",
        "[5545.932152,5512.587134,-20.93897781,62.09111577],\n",
        "[5554.571717,5522.563139,8.639565398,9.976005491],\n",
        "[5554.477594,5484.553577,-0.0941235,-38.0095618],\n",
        "[5514.101489,5517.80056,-40.37610504,33.24698227],\n",
        "[5514.064062,5525.874518,-0.037426338,8.07395817],\n",
        "[5545.932152,5486.939795,31.86808948,-38.93472238],\n",
        "[5545.932152,5512.587134,0,25.64733825],\n",
        "[5554.571717,5522.563139,8.639565398,9.976005491],\n",
        "[5545.932152,5486.939795,-8.639565398,-35.62334374],\n",
        "[5514.80296,5506.922893,-31.12919147,19.98309772],\n",
        "[5519.893308,5514.973352,5.090347202,8.050458586],\n",
        "[5552.686491,5479.935365,32.79318352,-35.03798659],\n",
        "[5562.862626,5513.184385,10.17613464,33.24901974],\n",
        "[5543.38148,5491.231088,-19.48114629,-21.95329721],\n",
        "[5550.691369,5496.026203,7.309889865,4.79511487],\n",
        "[5514.064062,5525.874518,-36.62730695,29.84831526],\n",
        "[5539.01147,5519.60558,24.94740781,-6.268937916],\n",
        "[5163.646037,5576.632969,10.7657507,2.152839272],\n",
        "[5152.236896,5622.941917,-11.40914109,46.30894811],\n",
        "[5175.055178,5530.324021,22.81828218,-92.61789622],\n",
        "[5172.392738,5589.456638,-2.662439908,59.13261723],\n",
        "[5186.729999,5594.670064,14.33726078,5.213425961],\n",
        "[5184.763162,5594.771171,-1.966836945,0.101106955],\n",
        "[5179.147077,5596.461068,-5.616084576,1.689897368],\n",
        "[5189.323212,5563.212049,10.17613464,-33.24901974],\n",
        "[5157.450008,5585.165346,-31.87320387,21.95329721],\n",
        "[5147.899495,5605.544362,-9.55051335,20.37901631],\n",
        "[5161.820018,5596.475084,13.92052263,-9.069277843],\n",
        "[5169.842066,5585.165346,8.022048296,-11.30973847],\n",
        "[5184.763162,5558.494767,14.92109623,-26.67057891],\n",
        "[5186.028527,5569.47354,1.26536527,10.97877344],\n",
        "[5141.00307,5586.072567,-45.02545744,16.5990262],\n",
        "[5193.331716,5625.900416,52.32864615,39.82784905],\n",
        "[5186.729999,5594.670064,-6.601717035,-31.23035156],\n",
        "[5137.968862,5590.053889,-48.76113704,-4.61617475],\n",
        "[5181.032304,5599.432644,43.06344166,9.37875428],\n",
        "[5189.323212,5590.053889,8.290908493,-9.37875428]])"
      ],
      "execution_count": 0,
      "outputs": []
    },
    {
      "cell_type": "code",
      "metadata": {
        "id": "ajHBXTx0V2Xm",
        "colab_type": "code",
        "outputId": "d04faf17-aa00-45b6-a7d6-964524326841",
        "colab": {
          "base_uri": "https://localhost:8080/",
          "height": 55
        }
      },
      "source": [
        "#Predict the output classes\n",
        "\n",
        "nonAttPred = rf.predict(mynonattgen)\n",
        "nonAttPred"
      ],
      "execution_count": 90,
      "outputs": [
        {
          "output_type": "execute_result",
          "data": {
            "text/plain": [
              "array([0, 0, 0, 0, 0, 0, 0, 0, 0, 0, 0, 0, 0, 0, 0, 0, 0, 0, 0, 0, 0, 0,\n",
              "       0, 0, 0, 0, 0, 0, 0, 0, 0, 0, 0, 0, 0, 0, 0, 0, 0, 0], dtype=int64)"
            ]
          },
          "metadata": {
            "tags": []
          },
          "execution_count": 90
        }
      ]
    },
    {
      "cell_type": "code",
      "metadata": {
        "id": "wJ8cH8-DV3Xm",
        "colab_type": "code",
        "colab": {}
      },
      "source": [
        "ynon = (\n",
        "[[0],\n",
        "[0],\n",
        "[0],\n",
        "[0],\n",
        "[0],\n",
        "[0],\n",
        "[0],\n",
        "[0],\n",
        "[0],\n",
        "[0],\n",
        "[0],\n",
        "[0],\n",
        "[0],\n",
        "[0],\n",
        "[0],\n",
        "[0],\n",
        "[0],\n",
        "[0],\n",
        "[0],\n",
        "[0],\n",
        "[0],\n",
        "[0],\n",
        "[0],\n",
        "[0],\n",
        "[0],\n",
        "[0],\n",
        "[0],\n",
        "[0],\n",
        "[0],\n",
        "[0],\n",
        "[0],\n",
        "[0],\n",
        "[0],\n",
        "[0],\n",
        "[0],\n",
        "[0],\n",
        "[0],\n",
        "[0],\n",
        "[0],\n",
        "[0]]\n",
        ")"
      ],
      "execution_count": 0,
      "outputs": []
    },
    {
      "cell_type": "code",
      "metadata": {
        "id": "jgPoz1_NV4mF",
        "colab_type": "code",
        "outputId": "1a6a590b-edbd-4871-9e55-9ca3bf0fa74f",
        "colab": {
          "base_uri": "https://localhost:8080/",
          "height": 36
        }
      },
      "source": [
        "print(confusion_matrix(ynon, nonAttPred))\n"
      ],
      "execution_count": 92,
      "outputs": [
        {
          "output_type": "stream",
          "text": [
            "[[40]]\n"
          ],
          "name": "stdout"
        }
      ]
    },
    {
      "cell_type": "code",
      "metadata": {
        "id": "a2KxtGe3V5fK",
        "colab_type": "code",
        "colab": {}
      },
      "source": [
        "#Random Walk Gen Data, All Attackers\n",
        "\n",
        "myattgen = (\n",
        "[\n",
        "[5560,5849.761829,5.591604024,-4.817498439],\n",
        "[5560,5856.226194,15.26770016,6.464364316],\n",
        "[5560,5858.350164,2.094458262,2.123970556],\n",
        "[5560,5826.952258,0.174107488,-31.39790642],\n",
        "[5560,5887.555764,-5.238442488,60.60350574],\n",
        "[5560,5820.246809,2.132500497,-67.30895421],\n",
        "[5560,5845.0491,8.982450752,24.80229031],\n",
        "[5560,5861.587801,5.65830739,16.5387017],\n",
        "[5560,5792.923941,3.352828511,-68.66386064],\n",
        "[5560,5842.35426,0.51157693,49.43031897],\n",
        "[5544.050287,5820,3.058531343,-20.6133566],\n",
        "[5575.059907,5820,31.00961983,2.72566848],\n",
        "[5582.992562,5820,7.932654371,7.824998019],\n",
        "[5596.807838,5820,13.81527643,-8.794052134],\n",
        "[5561.546745,5820,-35.26109297,54.63051091],\n",
        "[5535.826968,5820,-25.71977679,47.49808619],\n",
        "[5556.933472,5820,21.10650394,7.395275093],\n",
        "[5534.165459,5820,-22.76801277,6.545444849],\n",
        "[5578.38028,5820,44.21482038,1.439112293],\n",
        "[5622.709547,5820,44.32926727,2.064427141],\n",
        "[5575.949713,5849.761829,-3.0984563,6.561352962],\n",
        "[5575.059907,5783.773806,-0.889805445,-65.9880231],\n",
        "[5582.992562,5781.649836,7.932654371,-2.123970556],\n",
        "[5596.807838,5813.047742,13.81527643,31.39790642],\n",
        "[5561.546745,5887.555764,-35.26109297,74.50802142],\n",
        "[5584.173032,5819.753191,22.62628675,-67.80257296],\n",
        "[5556.933472,5845.0491,-27.2395596,25.29590906],\n",
        "[5585.834541,5861.587801,28.90106844,16.5387017],\n",
        "[5578.38028,5792.923941,-7.454260837,-68.66386064],\n",
        "[5622.709547,5797.64574,44.32926727,4.721799534]]\n",
        "\n",
        "\n",
        ")"
      ],
      "execution_count": 0,
      "outputs": []
    },
    {
      "cell_type": "code",
      "metadata": {
        "id": "4m3ylq3MV6ff",
        "colab_type": "code",
        "outputId": "6391386e-95e7-46a9-af7d-700eb6ccd242",
        "colab": {
          "base_uri": "https://localhost:8080/",
          "height": 55
        }
      },
      "source": [
        "#Predict the output classes\n",
        "\n",
        "attPred = rf.predict(myattgen)\n",
        "attPred"
      ],
      "execution_count": 94,
      "outputs": [
        {
          "output_type": "execute_result",
          "data": {
            "text/plain": [
              "array([0, 0, 0, 0, 0, 0, 0, 0, 0, 0, 1, 0, 0, 0, 0, 1, 1, 1, 0, 0, 0, 0,\n",
              "       0, 0, 0, 0, 0, 0, 0, 0], dtype=int64)"
            ]
          },
          "metadata": {
            "tags": []
          },
          "execution_count": 94
        }
      ]
    },
    {
      "cell_type": "code",
      "metadata": {
        "id": "x2VR0C9TV7cX",
        "colab_type": "code",
        "colab": {}
      },
      "source": [
        "yatt = (\n",
        "[\n",
        "[1],\n",
        "[1],\n",
        "[1],\n",
        "[1],\n",
        "[1],\n",
        "[1],\n",
        "[1],\n",
        "[1],\n",
        "[1],\n",
        "[1],\n",
        "[1],\n",
        "[1],\n",
        "[1],\n",
        "[1],\n",
        "[1],\n",
        "[1],\n",
        "[1],\n",
        "[1],\n",
        "[1],\n",
        "[1],\n",
        "[1],\n",
        "[1],\n",
        "[1],\n",
        "[1],\n",
        "[1],\n",
        "[1],\n",
        "[1],\n",
        "[1],\n",
        "[1],\n",
        "[1]]\n",
        ")"
      ],
      "execution_count": 0,
      "outputs": []
    },
    {
      "cell_type": "code",
      "metadata": {
        "id": "oLOZoCHWV9Fb",
        "colab_type": "code",
        "outputId": "df89d2f7-3a95-40c0-955e-18d201a0804e",
        "colab": {
          "base_uri": "https://localhost:8080/",
          "height": 55
        }
      },
      "source": [
        "print(confusion_matrix(yatt, attPred))\n"
      ],
      "execution_count": 96,
      "outputs": [
        {
          "output_type": "stream",
          "text": [
            "[[ 0  0]\n",
            " [26  4]]\n"
          ],
          "name": "stdout"
        }
      ]
    },
    {
      "cell_type": "code",
      "metadata": {
        "id": "SF2eH7Ll02i7",
        "colab_type": "code",
        "colab": {}
      },
      "source": [
        ""
      ],
      "execution_count": 0,
      "outputs": []
    },
    {
      "cell_type": "code",
      "metadata": {
        "id": "H-H0H0VbG7LY",
        "colab_type": "code",
        "colab": {}
      },
      "source": [
        "#Mix of Attackers and Non Attackers. Based on dataset using combined attackers / non-attackers\n",
        "mixAttNonAttGen=(\n",
        "[[5355.311714,5810.34339,14.23748644,1.013111112],\n",
        "[5357.362426,5773.956852,2.050711873,-36.38653811],\n",
        "[5358.864778,5835.724636,1.502352095,61.76778389],\n",
        "[5371.841819,5786.98286,12.97704033,-48.74177586],\n",
        "[5373.151197,5811.480622,1.309378745,24.4977617],\n",
        "[5351.652177,5820.085854,-21.49902047,8.605232388],\n",
        "[5386.268622,5780.074169,34.61644555,-40.01168462],\n",
        "[5378.366713,5836.902628,-7.901909753,56.82845808],\n",
        "[5369.65981,5805.236449,-8.706902925,-31.66617864],\n",
        "[5388.003787,5852.103909,18.34397701,46.86746035],\n",
        "[5354.195299,5815.147047,-33.80848764,-36.95686238],\n",
        "[3914.31501,5779.433525,-7.541675222,39.95430724],\n",
        "[6093.896217,5457.454514,2179.581207,-321.9790105],\n",
        "[6083.017688,5536.528128,-10.87852898,79.07361377],\n",
        "[6066.205889,5501.464598,-16.81179906,-35.06353015],\n",
        "[6069.033314,5546.035006,2.827424993,44.57040776],\n",
        "[6056.525486,5543.826959,-12.50782846,-2.208046431],\n",
        "[6070.983327,5514.660943,14.45784131,-29.16601657],\n",
        "[6062.472926,5537.812505,-8.510400622,23.15156204],\n",
        "[6039.065847,5524.370966,-23.40707882,-13.4415386],\n",
        "[6014.577256,5549.560992,-24.48859153,25.19002565],\n",
        "[6080.298871,5523.023387,65.72161525,-26.53760444],\n",
        "[3330.788142,5463.444815,-12.2259476,-13.85512134],\n",
        "[5291.725599,5758.742434,1960.937457,295.297619],\n",
        "[5351.694125,5679.66882,59.96852521,-79.07361377],\n",
        "[5334.882326,5714.73235,-16.81179906,35.06353015],\n",
        "[5337.709751,5737.905384,2.827424993,23.17303373],\n",
        "[5329.096331,5672.369989,-8.613419646,-65.53539506],\n",
        "[5314.63849,5706.531321,-14.45784131,34.16133206],\n",
        "[5331.149363,5729.682883,16.51087319,23.15156204],\n",
        "[5307.742284,5716.241345,-23.40707882,-13.4415386],\n",
        "[5371.044561,5741.43137,63.30227661,25.19002565],\n",
        "[5305.322945,5714.893766,-65.72161525,-26.53760444]]\n",
        "\n",
        ")"
      ],
      "execution_count": 0,
      "outputs": []
    },
    {
      "cell_type": "code",
      "metadata": {
        "id": "OTstBegOHCuo",
        "colab_type": "code",
        "outputId": "05b7d754-9391-477c-afcd-24623b9d2e40",
        "colab": {
          "base_uri": "https://localhost:8080/",
          "height": 55
        }
      },
      "source": [
        "#Predict the output classes\n",
        "\n",
        "\n",
        "mixPred = rf.predict(mixAttNonAttGen)\n",
        "mixPred"
      ],
      "execution_count": 98,
      "outputs": [
        {
          "output_type": "execute_result",
          "data": {
            "text/plain": [
              "array([0, 0, 0, 0, 0, 0, 0, 0, 0, 0, 0, 0, 0, 0, 0, 0, 0, 0, 0, 0, 0, 0,\n",
              "       0, 0, 0, 0, 0, 0, 0, 0, 0, 0, 0], dtype=int64)"
            ]
          },
          "metadata": {
            "tags": []
          },
          "execution_count": 98
        }
      ]
    }
  ]
}