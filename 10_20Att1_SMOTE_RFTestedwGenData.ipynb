{
  "nbformat": 4,
  "nbformat_minor": 0,
  "metadata": {
    "colab": {
      "name": "10_20Att1_SMOTE_RF.ipynb",
      "provenance": [],
      "collapsed_sections": [],
      "machine_shape": "hm",
      "include_colab_link": true
    },
    "kernelspec": {
      "name": "python3",
      "display_name": "Python 3"
    },
    "accelerator": "GPU"
  },
  "cells": [
    {
      "cell_type": "markdown",
      "metadata": {
        "id": "view-in-github",
        "colab_type": "text"
      },
      "source": [
        "<a href=\"https://colab.research.google.com/github/daustin1/355-Team-1-GOL/blob/master/10_20Att1_SMOTE_RFTestedwGenData.ipynb\" target=\"_parent\"><img src=\"https://colab.research.google.com/assets/colab-badge.svg\" alt=\"Open In Colab\"/></a>"
      ]
    },
    {
      "cell_type": "code",
      "metadata": {
        "id": "ZpEjNia7byau",
        "colab_type": "code",
        "colab": {}
      },
      "source": [
        "#References\n",
        "#-------------------------------------------------------\n",
        "#https://stackoverflow.com/questions/25009284/how-to-plot-roc-curve-in-python\n",
        "#https://www.kaggle.com/dansbecker/underfitting-and-overfitting\n",
        "#https://towardsdatascience.com/precision-vs-recall-386cf9f89488\n",
        "#https://www.dataschool.io/simple-guide-to-confusion-matrix-terminology/\n",
        "#https://developers.google.com/machine-learning/crash-course/classification/roc-and-auc\n",
        "#https://www.geeksforgeeks.org/best-python-libraries-for-machine-learning/\n",
        "#https://scikit-learn.org/stable/auto_examples/model_selection/plot_confusion_matrix.html#sphx-glr-auto-examples-model-selection-plot-confusion-matrix-py\n",
        "#https://scikit-learn.org/stable/modules/generated/sklearn.metrics.confusion_matrix.html\n",
        "#http://www.datasciencemadesimple.com/drop-delete-rows-conditions-python-pandas/\n",
        "#https://github.com/antaloaalonso/Classification-Model-YT-Video/blob/master/Classification%20Model%20on%20breast%20cancer%20Dataset.ipynb\n",
        "#https://datascience.stackexchange.com/questions/47228/using-smote-for-synthetic-data-generation-to-improve-performance-on-unbalanced-d\n",
        "#https://imbalanced-learn.readthedocs.io/en/stable/over_sampling.html\n",
        "#https://medium.com/@harshdeepsingh_35448/understanding-random-forests-aa0ccecdbbbb\n",
        "#https://www.datacamp.com/community/tutorials/random-forests-classifier-python\n",
        "#https://scikit-learn.org/stable/modules/generated/sklearn.ensemble.RandomForestRegressor.html\n",
        "#https://towardsdatascience.com/an-implementation-and-explanation-of-the-random-forest-in-python-77bf308a9b76\n",
        "\n",
        "#-------------------------------------------------------\n",
        "#Title: RF Scaled and Balanced w/ Synthetic Data Gen\n",
        "#Author: David Austin\n",
        "#Purpose: Thesis Work\n",
        "#Created: Oct 7, 2019\n",
        "#Revised: Oct 20,2019\n",
        "#Advisor: Dr. Hong Liu\n",
        "#-------------------------------------------------------"
      ],
      "execution_count": 0,
      "outputs": []
    },
    {
      "cell_type": "code",
      "metadata": {
        "id": "UmRoFfascDn7",
        "colab_type": "code",
        "colab": {}
      },
      "source": [
        "import numpy as np\n",
        "import pandas as pd\n",
        "from numpy import loadtxt\n",
        "\n",
        "from numpy import array\n",
        "\n",
        "import matplotlib.pyplot as plt\n",
        "import math\n",
        "from sklearn.preprocessing import MinMaxScaler\n",
        "\n",
        "from sklearn.ensemble import RandomForestClassifier\n",
        "\n",
        "from sklearn.metrics import auc, roc_curve, confusion_matrix, accuracy_score,precision_recall_curve,f1_score\n",
        "\n",
        "from imblearn.over_sampling import SMOTE"
      ],
      "execution_count": 0,
      "outputs": []
    },
    {
      "cell_type": "code",
      "metadata": {
        "id": "HSF5tYHHc-Fp",
        "colab_type": "code",
        "colab": {}
      },
      "source": [
        "#import pandas as pd\n",
        "#import math\n",
        "#import numpy as np\n",
        "#from sklearn.metrics import auc, roc_curve, confusion_matrix, accuracy_score,precision_recall_curve,f1_score\n",
        "#import matplotlib.pyplot as plt\n",
        "#import random\n",
        "#import matplotlib.pyplot as plt\n",
        "#from sklearn.neighbors import KNeighborsClassifier\n",
        "#import missingno"
      ],
      "execution_count": 0,
      "outputs": []
    },
    {
      "cell_type": "code",
      "metadata": {
        "id": "MOnKNrW-bMYy",
        "colab_type": "code",
        "colab": {}
      },
      "source": [
        "#pip install -U imbalanced-learn"
      ],
      "execution_count": 0,
      "outputs": []
    },
    {
      "cell_type": "markdown",
      "metadata": {
        "id": "vBxEFNZzdB0c",
        "colab_type": "text"
      },
      "source": [
        "Read in file"
      ]
    },
    {
      "cell_type": "code",
      "metadata": {
        "id": "ez0_Ys7sc_AW",
        "colab_type": "code",
        "outputId": "bd37ed80-ae96-4e54-ad33-44f34d8de6ba",
        "colab": {
          "base_uri": "https://localhost:8080/",
          "height": 247
        }
      },
      "source": [
        "#Read in csv, set up x and y variables\n",
        "#-------------------------------------------------------\n",
        "#Read in Data (CSV)\n",
        "fi = pd.read_csv(\"/Untitled Folder/nonclean0627_unCondAllCA1S1.csv\")\n",
        "fi.head(6)\n"
      ],
      "execution_count": 27,
      "outputs": [
        {
          "output_type": "execute_result",
          "data": {
            "text/plain": [
              "   type     sendTime  sender  messageID        pos_0        pos_1     spd_0  \\\n",
              "0     3  25200.00936      85       2081  3594.664563  5665.135272  1.365599   \n",
              "1     3  25200.02011      91       2452  3597.065839  5626.300132  2.669000   \n",
              "2     3  25200.03066     931       3619  3589.664305  5703.861398 -1.355341   \n",
              "3     3  25200.04402     961       4645  3631.304771  5229.921448 -4.466323   \n",
              "4     3  25200.06986     313       7676  5560.000000  5820.000000 -0.019531   \n",
              "5     3  25200.24980     109      13575  3600.326908  5686.981738  1.289000   \n",
              "\n",
              "       spd_1  receiver  AttackType  MLPrediction  \n",
              "0 -31.771078         7           0             0  \n",
              "1 -31.706486         7           0             0  \n",
              "2  32.461479         7           0             0  \n",
              "3  28.634010         7           0             0  \n",
              "4 -33.487743         7           1             0  \n",
              "5 -30.043390         7           0             0  "
            ],
            "text/html": [
              "<div>\n",
              "<style scoped>\n",
              "    .dataframe tbody tr th:only-of-type {\n",
              "        vertical-align: middle;\n",
              "    }\n",
              "\n",
              "    .dataframe tbody tr th {\n",
              "        vertical-align: top;\n",
              "    }\n",
              "\n",
              "    .dataframe thead th {\n",
              "        text-align: right;\n",
              "    }\n",
              "</style>\n",
              "<table border=\"1\" class=\"dataframe\">\n",
              "  <thead>\n",
              "    <tr style=\"text-align: right;\">\n",
              "      <th></th>\n",
              "      <th>type</th>\n",
              "      <th>sendTime</th>\n",
              "      <th>sender</th>\n",
              "      <th>messageID</th>\n",
              "      <th>pos_0</th>\n",
              "      <th>pos_1</th>\n",
              "      <th>spd_0</th>\n",
              "      <th>spd_1</th>\n",
              "      <th>receiver</th>\n",
              "      <th>AttackType</th>\n",
              "      <th>MLPrediction</th>\n",
              "    </tr>\n",
              "  </thead>\n",
              "  <tbody>\n",
              "    <tr>\n",
              "      <th>0</th>\n",
              "      <td>3</td>\n",
              "      <td>25200.00936</td>\n",
              "      <td>85</td>\n",
              "      <td>2081</td>\n",
              "      <td>3594.664563</td>\n",
              "      <td>5665.135272</td>\n",
              "      <td>1.365599</td>\n",
              "      <td>-31.771078</td>\n",
              "      <td>7</td>\n",
              "      <td>0</td>\n",
              "      <td>0</td>\n",
              "    </tr>\n",
              "    <tr>\n",
              "      <th>1</th>\n",
              "      <td>3</td>\n",
              "      <td>25200.02011</td>\n",
              "      <td>91</td>\n",
              "      <td>2452</td>\n",
              "      <td>3597.065839</td>\n",
              "      <td>5626.300132</td>\n",
              "      <td>2.669000</td>\n",
              "      <td>-31.706486</td>\n",
              "      <td>7</td>\n",
              "      <td>0</td>\n",
              "      <td>0</td>\n",
              "    </tr>\n",
              "    <tr>\n",
              "      <th>2</th>\n",
              "      <td>3</td>\n",
              "      <td>25200.03066</td>\n",
              "      <td>931</td>\n",
              "      <td>3619</td>\n",
              "      <td>3589.664305</td>\n",
              "      <td>5703.861398</td>\n",
              "      <td>-1.355341</td>\n",
              "      <td>32.461479</td>\n",
              "      <td>7</td>\n",
              "      <td>0</td>\n",
              "      <td>0</td>\n",
              "    </tr>\n",
              "    <tr>\n",
              "      <th>3</th>\n",
              "      <td>3</td>\n",
              "      <td>25200.04402</td>\n",
              "      <td>961</td>\n",
              "      <td>4645</td>\n",
              "      <td>3631.304771</td>\n",
              "      <td>5229.921448</td>\n",
              "      <td>-4.466323</td>\n",
              "      <td>28.634010</td>\n",
              "      <td>7</td>\n",
              "      <td>0</td>\n",
              "      <td>0</td>\n",
              "    </tr>\n",
              "    <tr>\n",
              "      <th>4</th>\n",
              "      <td>3</td>\n",
              "      <td>25200.06986</td>\n",
              "      <td>313</td>\n",
              "      <td>7676</td>\n",
              "      <td>5560.000000</td>\n",
              "      <td>5820.000000</td>\n",
              "      <td>-0.019531</td>\n",
              "      <td>-33.487743</td>\n",
              "      <td>7</td>\n",
              "      <td>1</td>\n",
              "      <td>0</td>\n",
              "    </tr>\n",
              "    <tr>\n",
              "      <th>5</th>\n",
              "      <td>3</td>\n",
              "      <td>25200.24980</td>\n",
              "      <td>109</td>\n",
              "      <td>13575</td>\n",
              "      <td>3600.326908</td>\n",
              "      <td>5686.981738</td>\n",
              "      <td>1.289000</td>\n",
              "      <td>-30.043390</td>\n",
              "      <td>7</td>\n",
              "      <td>0</td>\n",
              "      <td>0</td>\n",
              "    </tr>\n",
              "  </tbody>\n",
              "</table>\n",
              "</div>"
            ]
          },
          "metadata": {
            "tags": []
          },
          "execution_count": 27
        }
      ]
    },
    {
      "cell_type": "code",
      "metadata": {
        "id": "vgY6oroDdFps",
        "colab_type": "code",
        "outputId": "57f86385-b0f6-4162-ef55-aa2ef98b1aab",
        "colab": {
          "base_uri": "https://localhost:8080/",
          "height": 227
        }
      },
      "source": [
        "#Create copy of original data without extra columns\n",
        "modFi = fi.drop(columns=['type','sendTime','messageID','MLPrediction','sender','receiver'])\n",
        "#Setup x and y variables (Features vs target)\n",
        "y=fi['AttackType']\n",
        "#Drop un-necessary features from X\n",
        "x=fi.drop(columns=['type','sendTime','messageID','AttackType','MLPrediction','sender','receiver'])\n",
        "#Display first six values in x\n",
        "x.head(6)"
      ],
      "execution_count": 28,
      "outputs": [
        {
          "output_type": "execute_result",
          "data": {
            "text/plain": [
              "         pos_0        pos_1     spd_0      spd_1\n",
              "0  3594.664563  5665.135272  1.365599 -31.771078\n",
              "1  3597.065839  5626.300132  2.669000 -31.706486\n",
              "2  3589.664305  5703.861398 -1.355341  32.461479\n",
              "3  3631.304771  5229.921448 -4.466323  28.634010\n",
              "4  5560.000000  5820.000000 -0.019531 -33.487743\n",
              "5  3600.326908  5686.981738  1.289000 -30.043390"
            ],
            "text/html": [
              "<div>\n",
              "<style scoped>\n",
              "    .dataframe tbody tr th:only-of-type {\n",
              "        vertical-align: middle;\n",
              "    }\n",
              "\n",
              "    .dataframe tbody tr th {\n",
              "        vertical-align: top;\n",
              "    }\n",
              "\n",
              "    .dataframe thead th {\n",
              "        text-align: right;\n",
              "    }\n",
              "</style>\n",
              "<table border=\"1\" class=\"dataframe\">\n",
              "  <thead>\n",
              "    <tr style=\"text-align: right;\">\n",
              "      <th></th>\n",
              "      <th>pos_0</th>\n",
              "      <th>pos_1</th>\n",
              "      <th>spd_0</th>\n",
              "      <th>spd_1</th>\n",
              "    </tr>\n",
              "  </thead>\n",
              "  <tbody>\n",
              "    <tr>\n",
              "      <th>0</th>\n",
              "      <td>3594.664563</td>\n",
              "      <td>5665.135272</td>\n",
              "      <td>1.365599</td>\n",
              "      <td>-31.771078</td>\n",
              "    </tr>\n",
              "    <tr>\n",
              "      <th>1</th>\n",
              "      <td>3597.065839</td>\n",
              "      <td>5626.300132</td>\n",
              "      <td>2.669000</td>\n",
              "      <td>-31.706486</td>\n",
              "    </tr>\n",
              "    <tr>\n",
              "      <th>2</th>\n",
              "      <td>3589.664305</td>\n",
              "      <td>5703.861398</td>\n",
              "      <td>-1.355341</td>\n",
              "      <td>32.461479</td>\n",
              "    </tr>\n",
              "    <tr>\n",
              "      <th>3</th>\n",
              "      <td>3631.304771</td>\n",
              "      <td>5229.921448</td>\n",
              "      <td>-4.466323</td>\n",
              "      <td>28.634010</td>\n",
              "    </tr>\n",
              "    <tr>\n",
              "      <th>4</th>\n",
              "      <td>5560.000000</td>\n",
              "      <td>5820.000000</td>\n",
              "      <td>-0.019531</td>\n",
              "      <td>-33.487743</td>\n",
              "    </tr>\n",
              "    <tr>\n",
              "      <th>5</th>\n",
              "      <td>3600.326908</td>\n",
              "      <td>5686.981738</td>\n",
              "      <td>1.289000</td>\n",
              "      <td>-30.043390</td>\n",
              "    </tr>\n",
              "  </tbody>\n",
              "</table>\n",
              "</div>"
            ]
          },
          "metadata": {
            "tags": []
          },
          "execution_count": 28
        }
      ]
    },
    {
      "cell_type": "code",
      "metadata": {
        "id": "z_e_2eeTdfN9",
        "colab_type": "code",
        "outputId": "1505ba96-b2a7-43a0-c8a2-d07937a79ec9",
        "colab": {
          "base_uri": "https://localhost:8080/",
          "height": 133
        }
      },
      "source": [
        "#Display first six values in y\n",
        "y.head(6)"
      ],
      "execution_count": 29,
      "outputs": [
        {
          "output_type": "execute_result",
          "data": {
            "text/plain": [
              "0    0\n",
              "1    0\n",
              "2    0\n",
              "3    0\n",
              "4    1\n",
              "5    0\n",
              "Name: AttackType, dtype: int64"
            ]
          },
          "metadata": {
            "tags": []
          },
          "execution_count": 29
        }
      ]
    },
    {
      "cell_type": "code",
      "metadata": {
        "id": "LQAoqRCkXLm-",
        "colab_type": "code",
        "outputId": "d511b175-36d0-4cc2-8506-9ed45ef9036f",
        "colab": {
          "base_uri": "https://localhost:8080/",
          "height": 342
        }
      },
      "source": [
        "#Visualize the Amount of Score (1) vs (0)\n",
        "#-------------------------------------------------------\n",
        "\n",
        "pd.value_counts(fi['AttackType']).plot.bar()\n",
        "plt.title('Attacker Class Histogram')\n",
        "plt.xlabel('Class')\n",
        "plt.ylabel('Freq')\n",
        "fi['AttackType'].value_counts()"
      ],
      "execution_count": 30,
      "outputs": [
        {
          "output_type": "execute_result",
          "data": {
            "text/plain": [
              "0    453692\n",
              "1     47142\n",
              "Name: AttackType, dtype: int64"
            ]
          },
          "metadata": {
            "tags": []
          },
          "execution_count": 30
        },
        {
          "output_type": "display_data",
          "data": {
            "text/plain": [
              "<Figure size 432x288 with 1 Axes>"
            ],
            "image/png": "[encoded data removed]"
          },
          "metadata": {
            "tags": [],
            "needs_background": "light"
          }
        }
      ]
    },
    {
      "cell_type": "code",
      "metadata": {
        "id": "L7ViHy9SXmEy",
        "colab_type": "code",
        "outputId": "85f70120-684d-47ec-d943-4cf5272925d0",
        "colab": {
          "base_uri": "https://localhost:8080/",
          "height": 33
        }
      },
      "source": [
        "(47142/(453592+47142))*100"
      ],
      "execution_count": 31,
      "outputs": [
        {
          "output_type": "execute_result",
          "data": {
            "text/plain": [
              "9.414579397444552"
            ]
          },
          "metadata": {
            "tags": []
          },
          "execution_count": 31
        }
      ]
    },
    {
      "cell_type": "markdown",
      "metadata": {
        "id": "cWVoN83VdL8j",
        "colab_type": "text"
      },
      "source": [
        "Split the data"
      ]
    },
    {
      "cell_type": "code",
      "metadata": {
        "id": "Rb2_v2GNdOAt",
        "colab_type": "code",
        "colab": {}
      },
      "source": [
        "#Import the correct method \n",
        "#-------------------------------------------------------\n",
        "from sklearn.model_selection import train_test_split\n",
        "#Split the data into test and training. Do a 70% training and 30% testing. Split values as are in dataset (stratify)\n",
        "#-------------------------------------------------------\n",
        "X_train, X_test, y_train, y_test = train_test_split(x,y,test_size=.30,random_state=42,stratify=y,shuffle=True)"
      ],
      "execution_count": 0,
      "outputs": []
    },
    {
      "cell_type": "code",
      "metadata": {
        "id": "JtTSNxc4dP-Y",
        "colab_type": "code",
        "outputId": "02493035-bac0-4d89-c6ac-6c0d58feb042",
        "colab": {
          "base_uri": "https://localhost:8080/",
          "height": 33
        }
      },
      "source": [
        "#Visualize shape of training vs testing data\n",
        "print(X_train.shape, X_test.shape, y_train.shape, y_test.shape)"
      ],
      "execution_count": 33,
      "outputs": [
        {
          "output_type": "stream",
          "text": [
            "(350583, 4) (150251, 4) (350583,) (150251,)\n"
          ],
          "name": "stdout"
        }
      ]
    },
    {
      "cell_type": "markdown",
      "metadata": {
        "id": "6s2B-ExmeU-n",
        "colab_type": "text"
      },
      "source": [
        "To Ensure Proper Training. Must only SMOTE on Training data\n"
      ]
    },
    {
      "cell_type": "code",
      "metadata": {
        "id": "iMpl70VYeVFB",
        "colab_type": "code",
        "colab": {}
      },
      "source": [
        "#SMOTE Library is used to balance the classes (It will Generate Synthetic Data for Miniority Class)\n",
        "\n",
        "#Import the SMOTE library\n",
        "from imblearn.over_sampling import SMOTE\n",
        "#Instntialize a SMOTE variable, with a set random_state and ratio\n",
        "sm = SMOTE(random_state=27,ratio=1.0)"
      ],
      "execution_count": 0,
      "outputs": []
    },
    {
      "cell_type": "code",
      "metadata": {
        "id": "YJuDlrxgd9T6",
        "colab_type": "code",
        "colab": {}
      },
      "source": [
        "#Sample x and y, Generate Synthetic data to balance the data\n",
        "synX_train,syny_train = sm.fit_sample(X_train,y_train)"
      ],
      "execution_count": 0,
      "outputs": []
    },
    {
      "cell_type": "code",
      "metadata": {
        "id": "5YE-FlUJd_SG",
        "colab_type": "code",
        "colab": {}
      },
      "source": [
        "#Instantiate MinMaxScaler variable, and fit/transform to x\n",
        "#-------------------------------------------------------\n",
        "scaler =  MinMaxScaler(feature_range=(0, 1))\n",
        "scalX_train = scaler.fit_transform(synX_train)"
      ],
      "execution_count": 0,
      "outputs": []
    },
    {
      "cell_type": "code",
      "metadata": {
        "id": "Qzu1D5wYeBCE",
        "colab_type": "code",
        "outputId": "4a1285bf-9d24-42fb-8dd7-8ad03db8f44d",
        "colab": {
          "base_uri": "https://localhost:8080/",
          "height": 33
        }
      },
      "source": [
        "scalX_train.shape"
      ],
      "execution_count": 37,
      "outputs": [
        {
          "output_type": "execute_result",
          "data": {
            "text/plain": [
              "(635168, 4)"
            ]
          },
          "metadata": {
            "tags": []
          },
          "execution_count": 37
        }
      ]
    },
    {
      "cell_type": "code",
      "metadata": {
        "id": "aZCD_9LBv7-V",
        "colab_type": "code",
        "outputId": "004680a2-8121-4060-993d-19640717bd98",
        "colab": {
          "base_uri": "https://localhost:8080/",
          "height": 163
        }
      },
      "source": [
        "syny_train.value_count()"
      ],
      "execution_count": 38,
      "outputs": [
        {
          "output_type": "error",
          "ename": "AttributeError",
          "evalue": "ignored",
          "traceback": [
            "\u001b[1;31m---------------------------------------------------------------------------\u001b[0m",
            "\u001b[1;31mAttributeError\u001b[0m                            Traceback (most recent call last)",
            "\u001b[1;32m<ipython-input-38-56066ebd1e65>\u001b[0m in \u001b[0;36m<module>\u001b[1;34m\u001b[0m\n\u001b[1;32m----> 1\u001b[1;33m \u001b[0msyny_train\u001b[0m\u001b[1;33m.\u001b[0m\u001b[0mvalue_count\u001b[0m\u001b[1;33m(\u001b[0m\u001b[1;33m)\u001b[0m\u001b[1;33m\u001b[0m\u001b[1;33m\u001b[0m\u001b[0m\n\u001b[0m",
            "\u001b[1;31mAttributeError\u001b[0m: 'numpy.ndarray' object has no attribute 'value_count'"
          ]
        }
      ]
    },
    {
      "cell_type": "code",
      "metadata": {
        "id": "y_QjVaJmvVw-",
        "colab_type": "code",
        "colab": {}
      },
      "source": [
        "#Visualize the Amount of Score (1) vs (0)\n",
        "#-------------------------------------------------------\n",
        "\n",
        "#d.value_counts(syny_train.plot.bar())\n",
        "plt.title('Attacker Class Histogram')\n",
        "plt.xlabel('Class')\n",
        "plt.ylabel('Freq')\n",
        "syny_train.value_counts()"
      ],
      "execution_count": 0,
      "outputs": []
    },
    {
      "cell_type": "markdown",
      "metadata": {
        "id": "yUtmQwCNdTd4",
        "colab_type": "text"
      },
      "source": [
        "*Fit* Data using Random Forest (RF)\n"
      ]
    },
    {
      "cell_type": "code",
      "metadata": {
        "id": "tiIINlYtNS2S",
        "colab_type": "code",
        "outputId": "7e0e6b49-5f9e-48ad-f1f4-add49883885b",
        "colab": {
          "base_uri": "https://localhost:8080/",
          "height": 133
        }
      },
      "source": [
        "rf=RandomForestClassifier(n_estimators=50)\n",
        "rf.fit(scalX_train,syny_train)"
      ],
      "execution_count": 39,
      "outputs": [
        {
          "output_type": "execute_result",
          "data": {
            "text/plain": [
              "RandomForestClassifier(bootstrap=True, class_weight=None, criterion='gini',\n",
              "                       max_depth=None, max_features='auto', max_leaf_nodes=None,\n",
              "                       min_impurity_decrease=0.0, min_impurity_split=None,\n",
              "                       min_samples_leaf=1, min_samples_split=2,\n",
              "                       min_weight_fraction_leaf=0.0, n_estimators=50,\n",
              "                       n_jobs=None, oob_score=False, random_state=None,\n",
              "                       verbose=0, warm_start=False)"
            ]
          },
          "metadata": {
            "tags": []
          },
          "execution_count": 39
        }
      ]
    },
    {
      "cell_type": "code",
      "metadata": {
        "id": "SLLmzmC6dW9t",
        "colab_type": "code",
        "colab": {}
      },
      "source": [
        "#To Verify Test Data, must tranform with same scaling as training used\n",
        "#-----------------------------------------------------------\n",
        "\n",
        "scalX_test = scaler.transform(X_test)\n",
        "\n",
        "y_pred = rf.predict(scalX_test)\n"
      ],
      "execution_count": 0,
      "outputs": []
    },
    {
      "cell_type": "code",
      "metadata": {
        "id": "hBFsX8xf-YHY",
        "colab_type": "code",
        "outputId": "ed7ba1a2-0e9e-4d42-8f5f-b34fc272280d",
        "colab": {
          "base_uri": "https://localhost:8080/",
          "height": 50
        }
      },
      "source": [
        "#Print Confusion Matrix of Data \n",
        "#-----------------------------------------------------------\n",
        "\n",
        "print(confusion_matrix(y_test, y_pred))"
      ],
      "execution_count": 41,
      "outputs": [
        {
          "output_type": "stream",
          "text": [
            "[[136108      0]\n",
            " [     0  14143]]\n"
          ],
          "name": "stdout"
        }
      ]
    },
    {
      "cell_type": "code",
      "metadata": {
        "id": "Z1RYfPNilzPs",
        "colab_type": "code",
        "outputId": "b1dc86d4-132e-4e4e-867c-e39ca5796f06",
        "colab": {
          "base_uri": "https://localhost:8080/",
          "height": 166
        }
      },
      "source": [
        "#The classification report shows the precision, recall, f1 score and accuracy of the model and each output case\n",
        "#-----------------------------------------------------------\n",
        "\n",
        "from sklearn.metrics import classification_report\n",
        "print(classification_report(y_test,y_pred))"
      ],
      "execution_count": 42,
      "outputs": [
        {
          "output_type": "stream",
          "text": [
            "              precision    recall  f1-score   support\n",
            "\n",
            "           0       1.00      1.00      1.00    136108\n",
            "           1       1.00      1.00      1.00     14143\n",
            "\n",
            "    accuracy                           1.00    150251\n",
            "   macro avg       1.00      1.00      1.00    150251\n",
            "weighted avg       1.00      1.00      1.00    150251\n",
            "\n"
          ],
          "name": "stdout"
        }
      ]
    },
    {
      "cell_type": "code",
      "metadata": {
        "id": "zB1k2EjxrWmr",
        "colab_type": "code",
        "outputId": "76d7044d-ff3c-438d-fb33-c13f7c8ed431",
        "colab": {
          "base_uri": "https://localhost:8080/",
          "height": 163
        }
      },
      "source": [
        "print(threshold)"
      ],
      "execution_count": 43,
      "outputs": [
        {
          "output_type": "error",
          "ename": "NameError",
          "evalue": "ignored",
          "traceback": [
            "\u001b[1;31m---------------------------------------------------------------------------\u001b[0m",
            "\u001b[1;31mNameError\u001b[0m                                 Traceback (most recent call last)",
            "\u001b[1;32m<ipython-input-43-874ba54692b0>\u001b[0m in \u001b[0;36m<module>\u001b[1;34m\u001b[0m\n\u001b[1;32m----> 1\u001b[1;33m \u001b[0mprint\u001b[0m\u001b[1;33m(\u001b[0m\u001b[0mthreshold\u001b[0m\u001b[1;33m)\u001b[0m\u001b[1;33m\u001b[0m\u001b[1;33m\u001b[0m\u001b[0m\n\u001b[0m",
            "\u001b[1;31mNameError\u001b[0m: name 'threshold' is not defined"
          ]
        }
      ]
    },
    {
      "cell_type": "markdown",
      "metadata": {
        "id": "2ga9pFwEgTGD",
        "colab_type": "text"
      },
      "source": [
        "Plot ROC"
      ]
    },
    {
      "cell_type": "code",
      "metadata": {
        "id": "RuYYRgPVnkIt",
        "colab_type": "code",
        "outputId": "8b0b3009-280c-471e-acd4-b8f67c82f100",
        "colab": {
          "base_uri": "https://localhost:8080/",
          "height": 327
        }
      },
      "source": [
        "#Ref: \n",
        "#https://github.com/antaloaalonso/Classification-Model-YT-Video/blob/master/Classification%20Model%20on%20breast%20cancer%20Dataset.ipynb\n",
        "#-----------------------------------------------------------\n",
        "#ROC Curve\n",
        "# AUC score of testing data\n",
        "#-----------------------------------------------------------\n",
        "\n",
        "fpr_keras, tpr_keras, thresholds_keras = roc_curve(y_test,y_pred)\n",
        "auc_keras = auc(fpr_keras, tpr_keras)\n",
        "print('Testing data AUC: ', auc_keras)\n",
        "\n",
        "plt.figure(1)\n",
        "plt.plot([0, 1], [0, 1], 'k--')\n",
        "plt.plot(fpr_keras, tpr_keras, label='Keras (area = {:.3f})'.format(auc_keras))\n",
        "plt.xlabel('False positive rate')\n",
        "plt.ylabel('True positive rate')\n",
        "plt.title('ROC curve')\n",
        "plt.legend(loc='best')\n",
        "plt.show()\n",
        "plt.savefig(\"/Untitled Folder/10_20Att1SmRF_ROC.png\")"
      ],
      "execution_count": 44,
      "outputs": [
        {
          "output_type": "stream",
          "text": [
            "Testing data AUC:  1.0\n"
          ],
          "name": "stdout"
        },
        {
          "output_type": "display_data",
          "data": {
            "text/plain": [
              "<Figure size 432x288 with 1 Axes>"
            ],
            "image/png": "[encoded data removed]"
          },
          "metadata": {
            "tags": [],
            "needs_background": "light"
          }
        },
        {
          "output_type": "display_data",
          "data": {
            "text/plain": [
              "<Figure size 432x288 with 0 Axes>"
            ]
          },
          "metadata": {
            "tags": []
          }
        }
      ]
    },
    {
      "cell_type": "code",
      "metadata": {
        "id": "yWH9U-y_nkuK",
        "colab_type": "code",
        "outputId": "31c3ba4a-f23e-4036-a397-8fbbf62e4375",
        "colab": {
          "base_uri": "https://localhost:8080/",
          "height": 311
        }
      },
      "source": [
        "#Ref: \n",
        "#https://github.com/antaloaalonso/Classification-Model-YT-Video/blob/master/Classification%20Model%20on%20breast%20cancer%20Dataset.ipynb\n",
        "#-----------------------------------------------------------\n",
        "#Precision and Recall Curve\n",
        "#-----------------------------------------------------------\n",
        "\n",
        "precision, recall, thresholds = precision_recall_curve(y_test, y_pred)\n",
        "\n",
        "plt.figure(1)\n",
        "plt.plot([0, 0,1], [0, 1,1], 'k--')\n",
        "plt.plot(recall, precision, label='Keras (area = {:.3f})'.format(auc_keras))\n",
        "plt.xlabel('Recall')\n",
        "plt.ylabel('Precision')\n",
        "plt.title('Precision vs Recall Curve')\n",
        "plt.legend(loc='best')\n",
        "plt.show()\n",
        "plt.savefig('/Untitled Folder/10_20Att1SmRF_PRRCurve.png')"
      ],
      "execution_count": 45,
      "outputs": [
        {
          "output_type": "display_data",
          "data": {
            "text/plain": [
              "<Figure size 432x288 with 1 Axes>"
            ],
            "image/png": "[encoded data removed]"
          },
          "metadata": {
            "tags": [],
            "needs_background": "light"
          }
        },
        {
          "output_type": "display_data",
          "data": {
            "text/plain": [
              "<Figure size 432x288 with 0 Axes>"
            ]
          },
          "metadata": {
            "tags": []
          }
        }
      ]
    },
    {
      "cell_type": "code",
      "metadata": {
        "id": "_05inNYujb3F",
        "colab_type": "code",
        "outputId": "682dc464-ba57-4e7c-a1fe-d2028a6e7016",
        "colab": {
          "base_uri": "https://localhost:8080/",
          "height": 33
        }
      },
      "source": [
        "print(np.unique(y_pred))"
      ],
      "execution_count": 46,
      "outputs": [
        {
          "output_type": "stream",
          "text": [
            "[0 1]\n"
          ],
          "name": "stdout"
        }
      ]
    },
    {
      "cell_type": "code",
      "metadata": {
        "id": "a2KxtGe3V5fK",
        "colab_type": "code",
        "colab": {}
      },
      "source": [
        "#Random Walk Gen Data, Portions of Data are Full Attacker, and Mix of Non/Attacker\n",
        "\n",
        "myattgen = (\n",
        "[[4775.132499,5445.641949,10.87395897,-4.847415153],\n",
        "[4790.192406,5409.415755,15.05990719,-36.22619371],\n",
        "[4798.125061,5407.291785,7.932654371,-2.123970556],\n",
        "[4811.940337,5438.689691,13.81527643,31.39790642],\n",
        "[4776.679244,5513.197713,-35.26109297,74.50802142],\n",
        "[4799.305531,5445.39514,22.62628675,-67.80257296],\n",
        "[4772.065971,5470.691049,-27.2395596,25.29590906],\n",
        "[4800.96704,5487.22975,28.90106844,16.5387017],\n",
        "[4793.512779,5418.56589,-7.454260837,-68.66386064],\n",
        "[4837.842046,5423.287689,44.32926727,4.721799534],\n",
        "[3135.40644,5520.474623,3.980824232,4.222973833],\n",
        "[3150.466347,5556.700817,15.05990719,36.22619371],\n",
        "[3158.399001,5558.824787,7.932654371,2.123970556],\n",
        "[3172.214278,5527.426881,13.81527643,-31.39790642],\n",
        "[3136.953185,5588.030387,-35.26109297,60.60350574],\n",
        "[3111.233408,5520.721433,-25.71977679,-67.30895421],\n",
        "[3132.339912,5545.523723,21.10650394,24.80229031],\n",
        "[3109.571899,5562.062425,-22.76801277,16.5387017],\n",
        "[3153.78672,5493.398564,44.21482038,-68.66386064],\n",
        "[3198.115987,5542.828883,44.32926727,49.43031897],\n",
        "[5560,5849.761829,5.591604024,-4.817498439],\n",
        "[5560,5856.226194,15.26770016,6.464364316],\n",
        "[5560,5858.350164,2.094458262,2.123970556],\n",
        "[5560,5826.952258,0.174107488,-31.39790642],\n",
        "[5560,5887.555764,-5.238442488,60.60350574],\n",
        "[5560,5820.246809,2.132500497,-67.30895421],\n",
        "[5560,5845.0491,8.982450752,24.80229031],\n",
        "[5560,5861.587801,5.65830739,16.5387017],\n",
        "[5560,5792.923941,3.352828511,-68.66386064],\n",
        "[5560,5842.35426,0.51157693,49.43031897],\n",
        "[5544.050287,5820,3.058531343,-20.6133566],\n",
        "[5575.059907,5820,31.00961983,2.72566848],\n",
        "[5582.992562,5820,7.932654371,7.824998019],\n",
        "[5596.807838,5820,13.81527643,-8.794052134],\n",
        "[5561.546745,5820,-35.26109297,54.63051091],\n",
        "[5535.826968,5820,-25.71977679,47.49808619],\n",
        "[5556.933472,5820,21.10650394,7.395275093],\n",
        "[5534.165459,5820,-22.76801277,6.545444849],\n",
        "[5578.38028,5820,44.21482038,1.439112293],\n",
        "[5622.709547,5820,44.32926727,2.064427141],\n",
        "[5575.949713,5849.761829,-3.0984563,6.561352962],\n",
        "[5575.059907,5783.773806,-0.889805445,-65.9880231],\n",
        "[5582.992562,5781.649836,7.932654371,-2.123970556],\n",
        "[5596.807838,5813.047742,13.81527643,31.39790642],\n",
        "[5561.546745,5887.555764,-35.26109297,74.50802142],\n",
        "[5584.173032,5819.753191,22.62628675,-67.80257296],\n",
        "[5556.933472,5845.0491,-27.2395596,25.29590906],\n",
        "[5585.834541,5861.587801,28.90106844,16.5387017],\n",
        "[5578.38028,5792.923941,-7.454260837,-68.66386064],\n",
        "[5622.709547,5797.64574,44.32926727,4.721799534]]\n",
        "\n",
        "\n",
        ")"
      ],
      "execution_count": 0,
      "outputs": []
    },
    {
      "cell_type": "code",
      "metadata": {
        "id": "4m3ylq3MV6ff",
        "colab_type": "code",
        "outputId": "805fb237-2f1e-496f-d1ad-91a756fe190d",
        "colab": {
          "base_uri": "https://localhost:8080/",
          "height": 66
        }
      },
      "source": [
        "#Scale the generated data by transforming the scaler previously used on the train/test data. Predict the output classes\n",
        "scalattGen = scaler.transform(myattgen)\n",
        "#arrscalGen = scalattGen.reshape(scalattGen.shape[0],1,scalattGen.shape[1])\n",
        "attPred = rf.predict(scalattGen)\n",
        "attPred"
      ],
      "execution_count": 54,
      "outputs": [
        {
          "output_type": "execute_result",
          "data": {
            "text/plain": [
              "array([0, 0, 0, 0, 0, 0, 0, 0, 0, 0, 0, 0, 0, 0, 0, 0, 0, 0, 0, 0, 0, 0,\n",
              "       0, 0, 0, 0, 0, 0, 0, 0, 1, 1, 1, 1, 1, 1, 1, 1, 1, 1, 0, 0, 0, 0,\n",
              "       0, 0, 0, 0, 0, 0], dtype=int64)"
            ]
          },
          "metadata": {
            "tags": []
          },
          "execution_count": 54
        }
      ]
    },
    {
      "cell_type": "code",
      "metadata": {
        "id": "x2VR0C9TV7cX",
        "colab_type": "code",
        "colab": {}
      },
      "source": [
        "ymy = (\n",
        "[[0],\n",
        "[0],\n",
        "[0],\n",
        "[0],\n",
        "[0],\n",
        "[0],\n",
        "[0],\n",
        "[0],\n",
        "[0],\n",
        "[0],\n",
        "[0],\n",
        "[0],\n",
        "[0],\n",
        "[0],\n",
        "[0],\n",
        "[0],\n",
        "[0],\n",
        "[0],\n",
        "[0],\n",
        "[1],\n",
        "[1],\n",
        "[1],\n",
        "[1],\n",
        "[1],\n",
        "[1],\n",
        "[1],\n",
        "[1],\n",
        "[1],\n",
        "[1],\n",
        "[1],\n",
        "[1],\n",
        "[1],\n",
        "[1],\n",
        "[1],\n",
        "[1],\n",
        "[1],\n",
        "[1],\n",
        "[1],\n",
        "[1],\n",
        "[1],\n",
        "[1],\n",
        "[1],\n",
        "[1],\n",
        "[1],\n",
        "[1],\n",
        "[1],\n",
        "[1],\n",
        "[1],\n",
        "[1],\n",
        "[1]]\n",
        ")"
      ],
      "execution_count": 0,
      "outputs": []
    },
    {
      "cell_type": "code",
      "metadata": {
        "id": "oLOZoCHWV9Fb",
        "colab_type": "code",
        "outputId": "85611285-e86a-4197-eb1c-65c41ddf65df",
        "colab": {
          "base_uri": "https://localhost:8080/",
          "height": 50
        }
      },
      "source": [
        "print(confusion_matrix(ymy, attPred))\n"
      ],
      "execution_count": 56,
      "outputs": [
        {
          "output_type": "stream",
          "text": [
            "[[19  0]\n",
            " [21 10]]\n"
          ],
          "name": "stdout"
        }
      ]
    },
    {
      "cell_type": "code",
      "metadata": {
        "id": "yrqm10eWV-Bk",
        "colab_type": "code",
        "colab": {}
      },
      "source": [
        "attGen = ([[4907.791784,5815.908848,-3.99249041,-7.160605538],\n",
        "[4997.83084,5820.767765,90.03905587,4.858916821],\n",
        "[4897.988531,5808.056047,-99.84230924,-12.71171758],\n",
        "[4953.268524,5806.198158,55.2799934,-1.857889002],\n",
        "[4900.707519,5806.198158,-52.56100543,0],\n",
        "[4957.239104,5813.092976,56.53158585,6.894817652],\n",
        "[4912.910396,5823.95075,-44.32870813,10.85777432],\n",
        "[4907.791784,5815.908848,-5.118612319,-8.041902214],\n",
        "[4962.174558,5808.285473,54.3827737,-7.623375312],\n",
        "[4955.987512,5808.056047,-6.18704569,-0.229425448],\n",
        "[5560,5845.1432,-8.27583907,-5.738330497],\n",
        "[5560,5837.101298,33.27386232,-8.041902214],\n",
        "[5560,5824.451984,7.084265395,-12.64931411],\n",
        "[5560,5791.840277,-13.89304773,-32.61170713],\n",
        "[5560,5860.002316,-24.77490997,68.16203862],\n",
        "[5560,5827.390608,-13.89304773,-32.61170713],\n",
        "[5560,5824.451984,52.56100543,-2.938624347],\n",
        "[5560,5829.248497,2.718987974,4.79651335],\n",
        "[5560,5827.390608,-55.2799934,-1.857889002],\n",
        "[5560,5845.1432,40.35812772,17.75259198],\n",
        "[4140.152605,5820,11.43161652,-20.53255966],\n",
        "[4140.152605,5820,0,0],\n",
        "[4099.56087,5820,-40.59173542,-6.654402352],\n",
        "[4039.058704,5820,-60.50216626,14.50720311],\n",
        "[3998.466968,5820,-40.59173542,8.041902214],\n",
        "[4099.56087,5820,101.0939017,-10.85777432],\n",
        "[4088.506024,5820,-11.05484581,-27.58603398],\n",
        "[4104.496323,5820,15.99029906,22.77853077],\n",
        "[4056.922332,5820,-47.57399136,4.807503202],\n",
        "[4099.56087,5820,42.63853812,0]]\n",
        "\n",
        ")"
      ],
      "execution_count": 0,
      "outputs": []
    },
    {
      "cell_type": "code",
      "metadata": {
        "id": "dCm5SU5eV_FS",
        "colab_type": "code",
        "outputId": "f479f55f-1abb-44f2-fc8f-ff232e72442a",
        "colab": {
          "base_uri": "https://localhost:8080/",
          "height": 50
        }
      },
      "source": [
        "#Scale the generated data by transforming the scaler previously used on the train/test data. Predict the output classes\n",
        "\n",
        "scalGenAtt = scaler.transform(attGen)\n",
        "#arrscalGen2 = scalGenAtt2.reshape(scalGenAtt2.shape[0],1,scalGenAtt2.shape[1])\n",
        "attPred2 = rf.predict(scalGenAtt)\n",
        "attPred2"
      ],
      "execution_count": 58,
      "outputs": [
        {
          "output_type": "execute_result",
          "data": {
            "text/plain": [
              "array([0, 0, 0, 0, 0, 0, 0, 0, 0, 0, 0, 0, 0, 0, 0, 0, 0, 0, 0, 0, 1, 1,\n",
              "       1, 1, 1, 1, 1, 1, 1, 1], dtype=int64)"
            ]
          },
          "metadata": {
            "tags": []
          },
          "execution_count": 58
        }
      ]
    }
  ]
}