{
  "nbformat": 4,
  "nbformat_minor": 0,
  "metadata": {
    "colab": {
      "name": "10_28Att2_SMOTE_KNN.ipynb",
      "provenance": [],
      "collapsed_sections": [],
      "machine_shape": "hm",
      "include_colab_link": true
    },
    "kernelspec": {
      "name": "python3",
      "display_name": "Python 3"
    },
    "accelerator": "GPU"
  },
  "cells": [
    {
      "cell_type": "markdown",
      "metadata": {
        "id": "view-in-github",
        "colab_type": "text"
      },
      "source": [
        "<a href=\"https://colab.research.google.com/github/daustin1/355-Team-1-GOL/blob/master/10_28Att2_SMOTE_KNN.ipynb\" target=\"_parent\"><img src=\"https://colab.research.google.com/assets/colab-badge.svg\" alt=\"Open In Colab\"/></a>"
      ]
    },
    {
      "cell_type": "code",
      "metadata": {
        "id": "ZpEjNia7byau",
        "colab_type": "code",
        "colab": {}
      },
      "source": [
        "#References\n",
        "#-------------------------------------------------------\n",
        "#https://towardsdatascience.com/building-a-k-nearest-neighbors-k-nn-model-with-scikit-learn-51209555453a?gi=640271f9864c\n",
        "#https://stackoverflow.com/questions/25009284/how-to-plot-roc-curve-in-python\n",
        "#https://www.kaggle.com/dansbecker/underfitting-and-overfitting\n",
        "#https://towardsdatascience.com/precision-vs-recall-386cf9f89488\n",
        "#https://www.analyticsvidhya.com/blog/2018/03/introduction-k-neighbours-algorithm-clustering/\n",
        "#https://www.dataschool.io/simple-guide-to-confusion-matrix-terminology/\n",
        "#https://developers.google.com/machine-learning/crash-course/classification/roc-and-auc\n",
        "#https://www.kaggle.com/daustin1/step-by-step-diabetes-classification-knn-detailed/edit\n",
        "#https://scikit-learn.org/stable/modules/generated/sklearn.neighbors.KNeighborsClassifier.html\n",
        "#https://www.geeksforgeeks.org/best-python-libraries-for-machine-learning/\n",
        "#https://scikit-learn.org/stable/auto_examples/model_selection/plot_confusion_matrix.html#sphx-glr-auto-examples-model-selection-plot-confusion-matrix-py\n",
        "#https://scikit-learn.org/stable/modules/generated/sklearn.metrics.confusion_matrix.html\n",
        "#http://www.datasciencemadesimple.com/drop-delete-rows-conditions-python-pandas/\n",
        "#https://github.com/antaloaalonso/Classification-Model-YT-Video/blob/master/Classification%20Model%20on%20breast%20cancer%20Dataset.ipynb\n",
        "#https://datascience.stackexchange.com/questions/47228/using-smote-for-synthetic-data-generation-to-improve-performance-on-unbalanced-d\n",
        "#https://imbalanced-learn.readthedocs.io/en/stable/over_sampling.html\n",
        "#-------------------------------------------------------\n",
        "#Title: KNN Scaled and Balanced w/ Synthetic Data Gen\n",
        "#Author: David Austin\n",
        "#Purpose: Thesis Work\n",
        "#Created: Oct 7, 2019\n",
        "#Revised: Oct 20,2019\n",
        "#Advisor: Dr. Hong Liu\n",
        "#-------------------------------------------------------"
      ],
      "execution_count": 0,
      "outputs": []
    },
    {
      "cell_type": "code",
      "metadata": {
        "id": "UmRoFfascDn7",
        "colab_type": "code",
        "colab": {
          "base_uri": "https://localhost:8080/",
          "height": 36
        },
        "outputId": "6143c776-31a8-443c-a397-1fa73501d13d"
      },
      "source": [
        "import numpy as np\n",
        "import pandas as pd\n",
        "from numpy import loadtxt\n",
        "\n",
        "from numpy import array\n",
        "\n",
        "import matplotlib.pyplot as plt\n",
        "import math\n",
        "from sklearn.preprocessing import MinMaxScaler\n",
        "\n",
        "from sklearn.neighbors import KNeighborsClassifier\n",
        "\n",
        "from sklearn.metrics import auc, roc_curve, confusion_matrix, accuracy_score,precision_recall_curve,f1_score\n",
        "\n",
        "from imblearn.over_sampling import SMOTE"
      ],
      "execution_count": 2,
      "outputs": [
        {
          "output_type": "stream",
          "text": [
            "Using TensorFlow backend.\n"
          ],
          "name": "stderr"
        }
      ]
    },
    {
      "cell_type": "code",
      "metadata": {
        "id": "HSF5tYHHc-Fp",
        "colab_type": "code",
        "colab": {}
      },
      "source": [
        "#import pandas as pd\n",
        "#import math\n",
        "#import numpy as np\n",
        "#from sklearn.metrics import auc, roc_curve, confusion_matrix, accuracy_score,precision_recall_curve,f1_score\n",
        "#import matplotlib.pyplot as plt\n",
        "#import random\n",
        "#import matplotlib.pyplot as plt\n",
        "#from sklearn.neighbors import KNeighborsClassifier\n",
        "#import missingno"
      ],
      "execution_count": 0,
      "outputs": []
    },
    {
      "cell_type": "code",
      "metadata": {
        "id": "MOnKNrW-bMYy",
        "colab_type": "code",
        "colab": {}
      },
      "source": [
        "#pip install -U imbalanced-learn"
      ],
      "execution_count": 0,
      "outputs": []
    },
    {
      "cell_type": "markdown",
      "metadata": {
        "id": "vBxEFNZzdB0c",
        "colab_type": "text"
      },
      "source": [
        "Read in file"
      ]
    },
    {
      "cell_type": "code",
      "metadata": {
        "id": "ez0_Ys7sc_AW",
        "colab_type": "code",
        "outputId": "4ba1bc6b-4c29-4e1f-cf91-09d0e8df3a04",
        "colab": {
          "base_uri": "https://localhost:8080/",
          "height": 238
        }
      },
      "source": [
        "#Read in csv, set up x and y variables\n",
        "#-------------------------------------------------------\n",
        "#Read in Data (CSV)\n",
        "fi = pd.read_csv(\"/Untitled Folder/mod_raw_cond_FullA2S1.csv\")\n",
        "fi.head(6)\n"
      ],
      "execution_count": 5,
      "outputs": [
        {
          "output_type": "execute_result",
          "data": {
            "text/plain": [
              "   type     sendTime  sender  messageID        pos_0        pos_1     spd_0  \\\n",
              "0     3  25200.00936      85       2081  3594.664563  5665.135272  1.365599   \n",
              "1     3  25200.02011      91       2452  3597.065839  5626.300132  2.669000   \n",
              "2     3  25200.03066     931       3619  3589.664305  5703.861398 -1.355341   \n",
              "3     3  25200.04402     961       4645  3631.304771  5229.921448 -4.466323   \n",
              "4     3  25200.06986     313       7676  3847.788054  5644.912199 -0.019531   \n",
              "5     3  25200.24980     109      13575  3600.326908  5686.981738  1.289000   \n",
              "\n",
              "       spd_1  receiver  AttackType  MLPrediction  \n",
              "0 -31.771078         7           0             0  \n",
              "1 -31.706486         7           0             0  \n",
              "2  32.461479         7           0             0  \n",
              "3  28.634010         7           0             0  \n",
              "4 -33.487743         7           1             0  \n",
              "5 -30.043390         7           0             0  "
            ],
            "text/html": [
              "<div>\n",
              "<style scoped>\n",
              "    .dataframe tbody tr th:only-of-type {\n",
              "        vertical-align: middle;\n",
              "    }\n",
              "\n",
              "    .dataframe tbody tr th {\n",
              "        vertical-align: top;\n",
              "    }\n",
              "\n",
              "    .dataframe thead th {\n",
              "        text-align: right;\n",
              "    }\n",
              "</style>\n",
              "<table border=\"1\" class=\"dataframe\">\n",
              "  <thead>\n",
              "    <tr style=\"text-align: right;\">\n",
              "      <th></th>\n",
              "      <th>type</th>\n",
              "      <th>sendTime</th>\n",
              "      <th>sender</th>\n",
              "      <th>messageID</th>\n",
              "      <th>pos_0</th>\n",
              "      <th>pos_1</th>\n",
              "      <th>spd_0</th>\n",
              "      <th>spd_1</th>\n",
              "      <th>receiver</th>\n",
              "      <th>AttackType</th>\n",
              "      <th>MLPrediction</th>\n",
              "    </tr>\n",
              "  </thead>\n",
              "  <tbody>\n",
              "    <tr>\n",
              "      <td>0</td>\n",
              "      <td>3</td>\n",
              "      <td>25200.00936</td>\n",
              "      <td>85</td>\n",
              "      <td>2081</td>\n",
              "      <td>3594.664563</td>\n",
              "      <td>5665.135272</td>\n",
              "      <td>1.365599</td>\n",
              "      <td>-31.771078</td>\n",
              "      <td>7</td>\n",
              "      <td>0</td>\n",
              "      <td>0</td>\n",
              "    </tr>\n",
              "    <tr>\n",
              "      <td>1</td>\n",
              "      <td>3</td>\n",
              "      <td>25200.02011</td>\n",
              "      <td>91</td>\n",
              "      <td>2452</td>\n",
              "      <td>3597.065839</td>\n",
              "      <td>5626.300132</td>\n",
              "      <td>2.669000</td>\n",
              "      <td>-31.706486</td>\n",
              "      <td>7</td>\n",
              "      <td>0</td>\n",
              "      <td>0</td>\n",
              "    </tr>\n",
              "    <tr>\n",
              "      <td>2</td>\n",
              "      <td>3</td>\n",
              "      <td>25200.03066</td>\n",
              "      <td>931</td>\n",
              "      <td>3619</td>\n",
              "      <td>3589.664305</td>\n",
              "      <td>5703.861398</td>\n",
              "      <td>-1.355341</td>\n",
              "      <td>32.461479</td>\n",
              "      <td>7</td>\n",
              "      <td>0</td>\n",
              "      <td>0</td>\n",
              "    </tr>\n",
              "    <tr>\n",
              "      <td>3</td>\n",
              "      <td>3</td>\n",
              "      <td>25200.04402</td>\n",
              "      <td>961</td>\n",
              "      <td>4645</td>\n",
              "      <td>3631.304771</td>\n",
              "      <td>5229.921448</td>\n",
              "      <td>-4.466323</td>\n",
              "      <td>28.634010</td>\n",
              "      <td>7</td>\n",
              "      <td>0</td>\n",
              "      <td>0</td>\n",
              "    </tr>\n",
              "    <tr>\n",
              "      <td>4</td>\n",
              "      <td>3</td>\n",
              "      <td>25200.06986</td>\n",
              "      <td>313</td>\n",
              "      <td>7676</td>\n",
              "      <td>3847.788054</td>\n",
              "      <td>5644.912199</td>\n",
              "      <td>-0.019531</td>\n",
              "      <td>-33.487743</td>\n",
              "      <td>7</td>\n",
              "      <td>1</td>\n",
              "      <td>0</td>\n",
              "    </tr>\n",
              "    <tr>\n",
              "      <td>5</td>\n",
              "      <td>3</td>\n",
              "      <td>25200.24980</td>\n",
              "      <td>109</td>\n",
              "      <td>13575</td>\n",
              "      <td>3600.326908</td>\n",
              "      <td>5686.981738</td>\n",
              "      <td>1.289000</td>\n",
              "      <td>-30.043390</td>\n",
              "      <td>7</td>\n",
              "      <td>0</td>\n",
              "      <td>0</td>\n",
              "    </tr>\n",
              "  </tbody>\n",
              "</table>\n",
              "</div>"
            ]
          },
          "metadata": {
            "tags": []
          },
          "execution_count": 5
        }
      ]
    },
    {
      "cell_type": "code",
      "metadata": {
        "id": "vgY6oroDdFps",
        "colab_type": "code",
        "outputId": "369d4fa6-2465-4c34-f322-763ce17dc57f",
        "colab": {
          "base_uri": "https://localhost:8080/",
          "height": 238
        }
      },
      "source": [
        "#Create copy of original data without extra columns\n",
        "modFi = fi.drop(columns=['type','sendTime','messageID','MLPrediction','sender','receiver'])\n",
        "#Setup x and y variables (Features vs target)\n",
        "y=fi['AttackType']\n",
        "#Drop un-necessary features from X\n",
        "x=fi.drop(columns=['type','sendTime','messageID','AttackType','MLPrediction','sender','receiver'])\n",
        "#Display first six values in x\n",
        "x.head(6)"
      ],
      "execution_count": 6,
      "outputs": [
        {
          "output_type": "execute_result",
          "data": {
            "text/plain": [
              "         pos_0        pos_1     spd_0      spd_1\n",
              "0  3594.664563  5665.135272  1.365599 -31.771078\n",
              "1  3597.065839  5626.300132  2.669000 -31.706486\n",
              "2  3589.664305  5703.861398 -1.355341  32.461479\n",
              "3  3631.304771  5229.921448 -4.466323  28.634010\n",
              "4  3847.788054  5644.912199 -0.019531 -33.487743\n",
              "5  3600.326908  5686.981738  1.289000 -30.043390"
            ],
            "text/html": [
              "<div>\n",
              "<style scoped>\n",
              "    .dataframe tbody tr th:only-of-type {\n",
              "        vertical-align: middle;\n",
              "    }\n",
              "\n",
              "    .dataframe tbody tr th {\n",
              "        vertical-align: top;\n",
              "    }\n",
              "\n",
              "    .dataframe thead th {\n",
              "        text-align: right;\n",
              "    }\n",
              "</style>\n",
              "<table border=\"1\" class=\"dataframe\">\n",
              "  <thead>\n",
              "    <tr style=\"text-align: right;\">\n",
              "      <th></th>\n",
              "      <th>pos_0</th>\n",
              "      <th>pos_1</th>\n",
              "      <th>spd_0</th>\n",
              "      <th>spd_1</th>\n",
              "    </tr>\n",
              "  </thead>\n",
              "  <tbody>\n",
              "    <tr>\n",
              "      <td>0</td>\n",
              "      <td>3594.664563</td>\n",
              "      <td>5665.135272</td>\n",
              "      <td>1.365599</td>\n",
              "      <td>-31.771078</td>\n",
              "    </tr>\n",
              "    <tr>\n",
              "      <td>1</td>\n",
              "      <td>3597.065839</td>\n",
              "      <td>5626.300132</td>\n",
              "      <td>2.669000</td>\n",
              "      <td>-31.706486</td>\n",
              "    </tr>\n",
              "    <tr>\n",
              "      <td>2</td>\n",
              "      <td>3589.664305</td>\n",
              "      <td>5703.861398</td>\n",
              "      <td>-1.355341</td>\n",
              "      <td>32.461479</td>\n",
              "    </tr>\n",
              "    <tr>\n",
              "      <td>3</td>\n",
              "      <td>3631.304771</td>\n",
              "      <td>5229.921448</td>\n",
              "      <td>-4.466323</td>\n",
              "      <td>28.634010</td>\n",
              "    </tr>\n",
              "    <tr>\n",
              "      <td>4</td>\n",
              "      <td>3847.788054</td>\n",
              "      <td>5644.912199</td>\n",
              "      <td>-0.019531</td>\n",
              "      <td>-33.487743</td>\n",
              "    </tr>\n",
              "    <tr>\n",
              "      <td>5</td>\n",
              "      <td>3600.326908</td>\n",
              "      <td>5686.981738</td>\n",
              "      <td>1.289000</td>\n",
              "      <td>-30.043390</td>\n",
              "    </tr>\n",
              "  </tbody>\n",
              "</table>\n",
              "</div>"
            ]
          },
          "metadata": {
            "tags": []
          },
          "execution_count": 6
        }
      ]
    },
    {
      "cell_type": "code",
      "metadata": {
        "id": "z_e_2eeTdfN9",
        "colab_type": "code",
        "outputId": "1f61c844-2e0f-49d8-8f87-2c4d2efcaf55",
        "colab": {
          "base_uri": "https://localhost:8080/",
          "height": 149
        }
      },
      "source": [
        "#Display first six values in y\n",
        "y.head(6)"
      ],
      "execution_count": 7,
      "outputs": [
        {
          "output_type": "execute_result",
          "data": {
            "text/plain": [
              "0    0\n",
              "1    0\n",
              "2    0\n",
              "3    0\n",
              "4    1\n",
              "5    0\n",
              "Name: AttackType, dtype: int64"
            ]
          },
          "metadata": {
            "tags": []
          },
          "execution_count": 7
        }
      ]
    },
    {
      "cell_type": "code",
      "metadata": {
        "id": "LQAoqRCkXLm-",
        "colab_type": "code",
        "outputId": "e1fec0c1-659e-4c8b-a205-2319fc20a473",
        "colab": {
          "base_uri": "https://localhost:8080/",
          "height": 349
        }
      },
      "source": [
        "#Visualize the Amount of Score (1) vs (0)\n",
        "#-------------------------------------------------------\n",
        "\n",
        "pd.value_counts(fi['AttackType']).plot.bar()\n",
        "plt.title('Attacker Class Histogram')\n",
        "plt.xlabel('Class')\n",
        "plt.ylabel('Freq')\n",
        "fi['AttackType'].value_counts()"
      ],
      "execution_count": 8,
      "outputs": [
        {
          "output_type": "execute_result",
          "data": {
            "text/plain": [
              "0    453692\n",
              "1     47142\n",
              "Name: AttackType, dtype: int64"
            ]
          },
          "metadata": {
            "tags": []
          },
          "execution_count": 8
        },
        {
          "output_type": "display_data",
          "data": {
            "text/plain": [
              "<Figure size 432x288 with 1 Axes>"
            ],
            "image/png": "[encoded data removed]"
          },
          "metadata": {
            "tags": [],
            "needs_background": "light"
          }
        }
      ]
    },
    {
      "cell_type": "code",
      "metadata": {
        "id": "L7ViHy9SXmEy",
        "colab_type": "code",
        "outputId": "8b58c968-953c-4b35-f5ad-410ae0abc178",
        "colab": {
          "base_uri": "https://localhost:8080/",
          "height": 36
        }
      },
      "source": [
        "(47142/(453592+47142))*100"
      ],
      "execution_count": 9,
      "outputs": [
        {
          "output_type": "execute_result",
          "data": {
            "text/plain": [
              "9.414579397444552"
            ]
          },
          "metadata": {
            "tags": []
          },
          "execution_count": 9
        }
      ]
    },
    {
      "cell_type": "markdown",
      "metadata": {
        "id": "cWVoN83VdL8j",
        "colab_type": "text"
      },
      "source": [
        "Split the data"
      ]
    },
    {
      "cell_type": "code",
      "metadata": {
        "id": "Rb2_v2GNdOAt",
        "colab_type": "code",
        "colab": {}
      },
      "source": [
        "#Import the correct method \n",
        "#-------------------------------------------------------\n",
        "from sklearn.model_selection import train_test_split\n",
        "#Split the data into test and training. Do a 70% training and 30% testing. Split values as are in dataset (stratify)\n",
        "#-------------------------------------------------------\n",
        "X_train, X_test, y_train, y_test = train_test_split(x,y,test_size=.30,random_state=42,stratify=y,shuffle=True)"
      ],
      "execution_count": 0,
      "outputs": []
    },
    {
      "cell_type": "code",
      "metadata": {
        "id": "JtTSNxc4dP-Y",
        "colab_type": "code",
        "outputId": "4f07a2b9-d418-439c-b060-bc18bfc70605",
        "colab": {
          "base_uri": "https://localhost:8080/",
          "height": 36
        }
      },
      "source": [
        "#Visualize shape of training vs testing data\n",
        "print(X_train.shape, X_test.shape, y_train.shape, y_test.shape)"
      ],
      "execution_count": 11,
      "outputs": [
        {
          "output_type": "stream",
          "text": [
            "(350583, 4) (150251, 4) (350583,) (150251,)\n"
          ],
          "name": "stdout"
        }
      ]
    },
    {
      "cell_type": "markdown",
      "metadata": {
        "id": "6s2B-ExmeU-n",
        "colab_type": "text"
      },
      "source": [
        "To Ensure Proper Training. Must only SMOTE on Training data\n"
      ]
    },
    {
      "cell_type": "code",
      "metadata": {
        "id": "iMpl70VYeVFB",
        "colab_type": "code",
        "colab": {}
      },
      "source": [
        "#SMOTE Library is used to balance the classes (It will Generate Synthetic Data for Miniority Class)\n",
        "\n",
        "#Import the SMOTE library\n",
        "from imblearn.over_sampling import SMOTE\n",
        "#Instntialize a SMOTE variable, with a set random_state and ratio\n",
        "sm = SMOTE(random_state=27,ratio=1.0)"
      ],
      "execution_count": 0,
      "outputs": []
    },
    {
      "cell_type": "code",
      "metadata": {
        "id": "YJuDlrxgd9T6",
        "colab_type": "code",
        "colab": {}
      },
      "source": [
        "#Sample x and y, Generate Synthetic data to balance the data\n",
        "synX_train,syny_train = sm.fit_sample(X_train,y_train)"
      ],
      "execution_count": 0,
      "outputs": []
    },
    {
      "cell_type": "code",
      "metadata": {
        "id": "5YE-FlUJd_SG",
        "colab_type": "code",
        "colab": {}
      },
      "source": [
        "#Instantiate MinMaxScaler variable, and fit/transform to x\n",
        "#-------------------------------------------------------\n",
        "scaler =  MinMaxScaler(feature_range=(0, 1))\n",
        "scalX_train = scaler.fit_transform(synX_train)"
      ],
      "execution_count": 0,
      "outputs": []
    },
    {
      "cell_type": "code",
      "metadata": {
        "id": "Qzu1D5wYeBCE",
        "colab_type": "code",
        "outputId": "292438d2-7e38-452b-c166-c343c0cfe406",
        "colab": {
          "base_uri": "https://localhost:8080/",
          "height": 36
        }
      },
      "source": [
        "scalX_train.shape"
      ],
      "execution_count": 15,
      "outputs": [
        {
          "output_type": "execute_result",
          "data": {
            "text/plain": [
              "(635168, 4)"
            ]
          },
          "metadata": {
            "tags": []
          },
          "execution_count": 15
        }
      ]
    },
    {
      "cell_type": "code",
      "metadata": {
        "id": "y_QjVaJmvVw-",
        "colab_type": "code",
        "colab": {
          "base_uri": "https://localhost:8080/",
          "height": 349
        },
        "outputId": "b16d0f12-e2e2-4fc2-dcbd-c773e0852464"
      },
      "source": [
        "#Visualize the Amount of Score (1) vs (0)\n",
        "#-------------------------------------------------------\n",
        "\n",
        "pd.value_counts(syny_train).plot.bar()\n",
        "plt.title('Attacker Class Histogram')\n",
        "plt.xlabel('Class')\n",
        "plt.ylabel('Freq')\n",
        "pd.value_counts(syny_train)"
      ],
      "execution_count": 16,
      "outputs": [
        {
          "output_type": "execute_result",
          "data": {
            "text/plain": [
              "1    317584\n",
              "0    317584\n",
              "dtype: int64"
            ]
          },
          "metadata": {
            "tags": []
          },
          "execution_count": 16
        },
        {
          "output_type": "display_data",
          "data": {
            "text/plain": [
              "<Figure size 432x288 with 1 Axes>"
            ],
            "image/png": "[encoded data removed]"
          },
          "metadata": {
            "tags": [],
            "needs_background": "light"
          }
        }
      ]
    },
    {
      "cell_type": "markdown",
      "metadata": {
        "id": "yUtmQwCNdTd4",
        "colab_type": "text"
      },
      "source": [
        "Fit Data using KNN\n"
      ]
    },
    {
      "cell_type": "code",
      "metadata": {
        "id": "tiIINlYtNS2S",
        "colab_type": "code",
        "outputId": "c3be35fc-6b61-4567-c500-d5b622effee3",
        "colab": {
          "base_uri": "https://localhost:8080/",
          "height": 74
        }
      },
      "source": [
        "knn = KNeighborsClassifier(n_neighbors =7)\n",
        "knn.fit(scalX_train,syny_train)"
      ],
      "execution_count": 17,
      "outputs": [
        {
          "output_type": "execute_result",
          "data": {
            "text/plain": [
              "KNeighborsClassifier(algorithm='auto', leaf_size=30, metric='minkowski',\n",
              "                     metric_params=None, n_jobs=None, n_neighbors=7, p=2,\n",
              "                     weights='uniform')"
            ]
          },
          "metadata": {
            "tags": []
          },
          "execution_count": 17
        }
      ]
    },
    {
      "cell_type": "code",
      "metadata": {
        "id": "SLLmzmC6dW9t",
        "colab_type": "code",
        "colab": {}
      },
      "source": [
        "#To Verify Test Data, must tranform with same scaling as training used\n",
        "#-----------------------------------------------------------\n",
        "\n",
        "scalX_test = scaler.transform(X_test)\n",
        "\n",
        "y_pred = knn.predict(scalX_test)\n"
      ],
      "execution_count": 0,
      "outputs": []
    },
    {
      "cell_type": "code",
      "metadata": {
        "id": "hBFsX8xf-YHY",
        "colab_type": "code",
        "outputId": "cd9b7da8-6a0a-466e-b8cb-911c463552ad",
        "colab": {
          "base_uri": "https://localhost:8080/",
          "height": 55
        }
      },
      "source": [
        "#Print Confusion Matrix of Data \n",
        "#-----------------------------------------------------------\n",
        "\n",
        "print(confusion_matrix(y_test, y_pred))"
      ],
      "execution_count": 19,
      "outputs": [
        {
          "output_type": "stream",
          "text": [
            "[[136093     15]\n",
            " [     0  14143]]\n"
          ],
          "name": "stdout"
        }
      ]
    },
    {
      "cell_type": "code",
      "metadata": {
        "id": "Z1RYfPNilzPs",
        "colab_type": "code",
        "outputId": "227dd97d-0aa6-49ea-b4a9-a7f69523d0d8",
        "colab": {
          "base_uri": "https://localhost:8080/",
          "height": 187
        }
      },
      "source": [
        "#The classification report shows the precision, recall, f1 score and accuracy of the model and each output case\n",
        "#-----------------------------------------------------------\n",
        "\n",
        "from sklearn.metrics import classification_report\n",
        "print(classification_report(y_test,y_pred))"
      ],
      "execution_count": 20,
      "outputs": [
        {
          "output_type": "stream",
          "text": [
            "              precision    recall  f1-score   support\n",
            "\n",
            "           0       1.00      1.00      1.00    136108\n",
            "           1       1.00      1.00      1.00     14143\n",
            "\n",
            "    accuracy                           1.00    150251\n",
            "   macro avg       1.00      1.00      1.00    150251\n",
            "weighted avg       1.00      1.00      1.00    150251\n",
            "\n"
          ],
          "name": "stdout"
        }
      ]
    },
    {
      "cell_type": "code",
      "metadata": {
        "id": "zB1k2EjxrWmr",
        "colab_type": "code",
        "colab": {}
      },
      "source": [
        "#print(threshold)"
      ],
      "execution_count": 0,
      "outputs": []
    },
    {
      "cell_type": "markdown",
      "metadata": {
        "id": "2ga9pFwEgTGD",
        "colab_type": "text"
      },
      "source": [
        "Plot ROC"
      ]
    },
    {
      "cell_type": "code",
      "metadata": {
        "id": "RuYYRgPVnkIt",
        "colab_type": "code",
        "outputId": "4c64b2f0-c8ad-4573-c982-f29e5b3d75b8",
        "colab": {
          "base_uri": "https://localhost:8080/",
          "height": 333
        }
      },
      "source": [
        "#Ref: \n",
        "#https://github.com/antaloaalonso/Classification-Model-YT-Video/blob/master/Classification%20Model%20on%20breast%20cancer%20Dataset.ipynb\n",
        "#-----------------------------------------------------------\n",
        "#ROC Curve\n",
        "# AUC score of testing data\n",
        "#-----------------------------------------------------------\n",
        "\n",
        "fpr_keras, tpr_keras, thresholds_keras = roc_curve(y_test,y_pred)\n",
        "auc_keras = auc(fpr_keras, tpr_keras)\n",
        "print('Testing data AUC: ', auc_keras)\n",
        "\n",
        "plt.figure(1)\n",
        "plt.plot([0, 1], [0, 1], 'k--')\n",
        "plt.plot(fpr_keras, tpr_keras, label='Keras (area = {:.3f})'.format(auc_keras))\n",
        "plt.xlabel('False positive rate')\n",
        "plt.ylabel('True positive rate')\n",
        "plt.title('ROC curve')\n",
        "plt.legend(loc='best')\n",
        "plt.show()\n",
        "plt.savefig(\"/Untitled Folder/att2/10_20Att2SmKNNROC.png\")"
      ],
      "execution_count": 22,
      "outputs": [
        {
          "output_type": "stream",
          "text": [
            "Testing data AUC:  0.9999448966996797\n"
          ],
          "name": "stdout"
        },
        {
          "output_type": "display_data",
          "data": {
            "text/plain": [
              "<Figure size 432x288 with 1 Axes>"
            ],
            "image/png": "[encoded data removed]"
          },
          "metadata": {
            "tags": [],
            "needs_background": "light"
          }
        },
        {
          "output_type": "display_data",
          "data": {
            "text/plain": [
              "<Figure size 432x288 with 0 Axes>"
            ]
          },
          "metadata": {
            "tags": []
          }
        }
      ]
    },
    {
      "cell_type": "code",
      "metadata": {
        "id": "yWH9U-y_nkuK",
        "colab_type": "code",
        "outputId": "ce77ff65-a2f7-47f2-983a-975ec2ef50e1",
        "colab": {
          "base_uri": "https://localhost:8080/",
          "height": 314
        }
      },
      "source": [
        "#Ref: \n",
        "#https://github.com/antaloaalonso/Classification-Model-YT-Video/blob/master/Classification%20Model%20on%20breast%20cancer%20Dataset.ipynb\n",
        "#-----------------------------------------------------------\n",
        "#Precision and Recall Curve\n",
        "#-----------------------------------------------------------\n",
        "\n",
        "precision, recall, thresholds = precision_recall_curve(y_test, y_pred)\n",
        "\n",
        "plt.figure(1)\n",
        "plt.plot([0, 0,1], [0, 1,1], 'k--')\n",
        "plt.plot(recall, precision, label='Keras (area = {:.3f})'.format(auc_keras))\n",
        "plt.xlabel('Recall')\n",
        "plt.ylabel('Precision')\n",
        "plt.title('Precision vs Recall Curve')\n",
        "plt.legend(loc='best')\n",
        "plt.show()\n",
        "plt.savefig('/Untitled Folder/att2/10_20Att2SmKNNPRRCurve.png')"
      ],
      "execution_count": 23,
      "outputs": [
        {
          "output_type": "display_data",
          "data": {
            "text/plain": [
              "<Figure size 432x288 with 1 Axes>"
            ],
            "image/png": "[encoded data removed]"
          },
          "metadata": {
            "tags": [],
            "needs_background": "light"
          }
        },
        {
          "output_type": "display_data",
          "data": {
            "text/plain": [
              "<Figure size 432x288 with 0 Axes>"
            ]
          },
          "metadata": {
            "tags": []
          }
        }
      ]
    },
    {
      "cell_type": "code",
      "metadata": {
        "id": "_05inNYujb3F",
        "colab_type": "code",
        "outputId": "10e2b04d-6514-4a54-bb5b-0f665f82cef9",
        "colab": {
          "base_uri": "https://localhost:8080/",
          "height": 36
        }
      },
      "source": [
        "print(np.unique(y_pred))"
      ],
      "execution_count": 24,
      "outputs": [
        {
          "output_type": "stream",
          "text": [
            "[0 1]\n"
          ],
          "name": "stdout"
        }
      ]
    },
    {
      "cell_type": "code",
      "metadata": {
        "id": "Ya5EGQrg09VA",
        "colab_type": "code",
        "colab": {}
      },
      "source": [
        "#Random Walk Data Generated Based on Distributions of Dataset. Testing of non / attackers"
      ],
      "execution_count": 0,
      "outputs": []
    },
    {
      "cell_type": "code",
      "metadata": {
        "id": "bogUv98Sq28Z",
        "colab_type": "code",
        "colab": {}
      },
      "source": [
        "nonattGen=([[8243.028264,5225.237538,16.14031006,-7.462108301],\n",
        "[8224.771435,5240.426321,-18.25682909,15.18878283],\n",
        "[8240.252601,5225.723217,15.48116625,-14.70310418],\n",
        "[8219.871041,5232.114604,-20.38156014,6.391387419],\n",
        "[8204.335671,5238.383788,-15.53536962,6.269183615],\n",
        "[8242.916802,5236.904933,38.58113127,-1.478854339],\n",
        "[8214.86146,5230.597772,-28.05534296,-6.307161542],\n",
        "[8286.298912,5210.66857,71.43745267,-19.92920133],\n",
        "[8269.198264,5212.046556,-17.1006477,1.377986059],\n",
        "[8214.86146,5230.597772,-54.33680497,18.55121527],\n",
        "[5099.672525,5532.519421,-17.6229218,-9.464343639],\n",
        "[5122.829748,5525.642355,23.15722299,-6.877066067],\n",
        "[5101.563345,5500.279309,-21.26640255,-25.3630461],\n",
        "[5127.839329,5537.879654,26.27598385,37.60034597],\n",
        "[5091.050315,5545.878448,-36.78901435,7.998793522],\n",
        "[5088.111442,5552.97369,-2.938872502,7.095242088],\n",
        "[5110.625313,5572.689933,22.5138704,19.71624278],\n",
        "[5110.625313,5572.689933,0,0],\n",
        "[5079.819388,5533.851865,-30.80592449,-38.83806829],\n",
        "[5122.829748,5539.396487,43.01035964,5.544622166]])\n"
      ],
      "execution_count": 0,
      "outputs": []
    },
    {
      "cell_type": "code",
      "metadata": {
        "id": "ANJxa-5aq-up",
        "colab_type": "code",
        "colab": {}
      },
      "source": [
        "ynonatt=(\n",
        "[[0],\n",
        "[0],\n",
        "[0],\n",
        "[0],\n",
        "[0],\n",
        "[0],\n",
        "[0],\n",
        "[0],\n",
        "[0],\n",
        "[0],\n",
        "[0],\n",
        "[0],\n",
        "[0],\n",
        "[0],\n",
        "[0],\n",
        "[0],\n",
        "[0],\n",
        "[0],\n",
        "[0],\n",
        "[0]]\n",
        ")"
      ],
      "execution_count": 0,
      "outputs": []
    },
    {
      "cell_type": "code",
      "metadata": {
        "id": "RqpzwVtn0h5u",
        "colab_type": "code",
        "outputId": "304a200b-68c4-4ee6-83fb-edace5059d02",
        "colab": {
          "base_uri": "https://localhost:8080/",
          "height": 55
        }
      },
      "source": [
        "#Predict the output classes\n",
        "scalnonattPred = scaler.transform(nonattGen)\n",
        "nonAttPred = knn.predict(scalnonattPred)\n",
        "nonAttPred"
      ],
      "execution_count": 28,
      "outputs": [
        {
          "output_type": "execute_result",
          "data": {
            "text/plain": [
              "array([1, 0, 1, 0, 0, 1, 0, 1, 0, 0, 0, 1, 0, 0, 0, 0, 0, 0, 0, 0],\n",
              "      dtype=int64)"
            ]
          },
          "metadata": {
            "tags": []
          },
          "execution_count": 28
        }
      ]
    },
    {
      "cell_type": "code",
      "metadata": {
        "id": "Z-_AKxsr0nEZ",
        "colab_type": "code",
        "outputId": "e6dc09e9-56b2-43ba-d52a-fa37de751260",
        "colab": {
          "base_uri": "https://localhost:8080/",
          "height": 55
        }
      },
      "source": [
        "print(confusion_matrix(ynonatt, nonAttPred))"
      ],
      "execution_count": 29,
      "outputs": [
        {
          "output_type": "stream",
          "text": [
            "[[15  5]\n",
            " [ 0  0]]\n"
          ],
          "name": "stdout"
        }
      ]
    },
    {
      "cell_type": "code",
      "metadata": {
        "id": "HFZbTC0XzWCj",
        "colab_type": "code",
        "colab": {}
      },
      "source": [
        "#Random Walk Gen Data, All Attackers\n",
        "\n",
        "attgen=(\n",
        "    [[5830.486417,5686.288121,4.609165179,-12.53427761],\n",
        "[5828.109797,5693.328891,-2.376619731,7.040770113],\n",
        "[5809.129888,5687.911453,-18.97990923,-5.417438225],\n",
        "[5824.224919,5695.398586,15.09503118,7.487132448],\n",
        "[5873.069748,5686.066651,48.84482907,-9.331934807],\n",
        "[5827.321929,5689.102259,-45.7478187,3.035608241],\n",
        "[5836.115493,5686.670621,8.793563767,-2.431637697],\n",
        "[5833.650904,5689.102259,-2.464588946,2.431637697],\n",
        "[5842.001654,5703.636007,8.350750177,14.53374775],\n",
        "[5833.161069,5733.801562,-8.840585204,30.16555544],\n",
        "[6029.320855,5557.205859,8.572148084,-7.192080279],\n",
        "[6043.660075,5568.818013,14.33921968,11.61215441],\n",
        "[6059.216336,5557.53204,15.55626085,-11.28597266],\n",
        "[6032.996325,5574.931455,-26.22001128,17.39941433],\n",
        "[6059.216336,5557.53204,26.22001128,-17.39941433],\n",
        "[6087.227351,5565.226369,28.01101554,7.694328389],\n",
        "[6058.607588,5578.479372,-28.61976352,13.25300277],\n",
        "[6087.227351,5549.185349,28.61976352,-29.29402304],\n",
        "[6026.156368,5560.019996,-61.07098348,10.8346479],\n",
        "[6029.886249,5555.432286,3.729881206,-4.58771022]]\n",
        "\n",
        ")"
      ],
      "execution_count": 0,
      "outputs": []
    },
    {
      "cell_type": "code",
      "metadata": {
        "id": "BYIQJNlqzo22",
        "colab_type": "code",
        "colab": {}
      },
      "source": [
        "yatt=([[1],\n",
        "[1],\n",
        "[1],\n",
        "[1],\n",
        "[1],\n",
        "[1],\n",
        "[1],\n",
        "[1],\n",
        "[1],\n",
        "[1],\n",
        "[1],\n",
        "[1],\n",
        "[1],\n",
        "[1],\n",
        "[1],\n",
        "[1],\n",
        "[1],\n",
        "[1],\n",
        "[1],\n",
        "[1]])"
      ],
      "execution_count": 0,
      "outputs": []
    },
    {
      "cell_type": "code",
      "metadata": {
        "id": "Fs9jhKeS0Wxf",
        "colab_type": "code",
        "outputId": "663fae69-64f0-4fe1-a625-10501d98af13",
        "colab": {
          "base_uri": "https://localhost:8080/",
          "height": 55
        }
      },
      "source": [
        "#Predict the output classes\n",
        "scalattPred = scaler.transform(attgen)\n",
        "attPred = knn.predict(attgen)\n",
        "attPred"
      ],
      "execution_count": 32,
      "outputs": [
        {
          "output_type": "execute_result",
          "data": {
            "text/plain": [
              "array([0, 0, 0, 0, 0, 0, 0, 0, 0, 0, 0, 0, 0, 0, 0, 0, 0, 0, 0, 0],\n",
              "      dtype=int64)"
            ]
          },
          "metadata": {
            "tags": []
          },
          "execution_count": 32
        }
      ]
    },
    {
      "cell_type": "code",
      "metadata": {
        "id": "w6WQRd6N0bkH",
        "colab_type": "code",
        "outputId": "0e1a1c4b-8ae5-4a2d-a856-7a371db0f2d7",
        "colab": {
          "base_uri": "https://localhost:8080/",
          "height": 55
        }
      },
      "source": [
        "print(confusion_matrix(yatt, attPred))"
      ],
      "execution_count": 33,
      "outputs": [
        {
          "output_type": "stream",
          "text": [
            "[[ 0  0]\n",
            " [20  0]]\n"
          ],
          "name": "stdout"
        }
      ]
    },
    {
      "cell_type": "code",
      "metadata": {
        "id": "w5v1H0UHQt-Z",
        "colab_type": "code",
        "colab": {}
      },
      "source": [
        "#Mix of Attackers and Non Attackers. Based on dataset using combined attackers / non-attackers\n",
        "\n",
        "nonattvattgen=(\n",
        "[[6536.659659,5613.092989,4.398789101,12.29988976],\n",
        "[6537.013596,5597.775685,0.353936233,-15.31730357],\n",
        "[6502.739591,5637.405817,-34.27400492,39.63013128],\n",
        "[6537.866021,5598.976666,35.12643067,-38.42915057],\n",
        "[6549.67546,5636.61243,11.80943841,37.63576367],\n",
        "[6537.866021,5598.976666,-11.80943841,-37.63576367],\n",
        "[6577.293803,5588.237416,39.42778178,-10.73924972],\n",
        "[6549.760737,5583.804402,-27.53306637,-4.433014292],\n",
        "[6555.18742,5636.533511,5.426683639,52.72910951],\n",
        "[6558.081603,5690.438968,2.894182762,53.90545648],\n",
        "[3966.444697,5660.08446,0.629075614,14.05874545],\n",
        "[4000.364765,5684.397288,33.92006868,24.31282771],\n",
        "[3934.295584,5679.615315,-66.06918089,-4.781973111],\n",
        "[3979.460497,5636.56502,45.1649126,-43.05029541],\n",
        "[4014.584412,5645.538395,35.12391501,8.973375345],\n",
        "[3977.821564,5660.497531,-36.76284818,14.95913658],\n",
        "[3921.770112,5665.678809,-56.05145161,5.18127739],\n",
        "[3966.798633,5675.401764,45.02852062,9.722955066],\n",
        "[3939.262334,5683.931604,-27.53629856,8.529840516],\n",
        "[3998.607739,5661.154321,59.34540473,-22.77728336]]\n",
        "\n",
        ")"
      ],
      "execution_count": 0,
      "outputs": []
    },
    {
      "cell_type": "code",
      "metadata": {
        "id": "Cwt52_GTQxaU",
        "colab_type": "code",
        "outputId": "53cb7f33-a2cd-4292-c931-dcb4093fdbf6",
        "colab": {
          "base_uri": "https://localhost:8080/",
          "height": 55
        }
      },
      "source": [
        "#Predict the output classes\n",
        "scalattMix = scaler.transform(nonattvattgen)\n",
        "mixattGenPred = knn.predict(scalattMix)\n",
        "mixattGenPred"
      ],
      "execution_count": 35,
      "outputs": [
        {
          "output_type": "execute_result",
          "data": {
            "text/plain": [
              "array([1, 1, 0, 1, 1, 0, 1, 1, 0, 0, 0, 0, 0, 0, 0, 0, 0, 0, 0, 0],\n",
              "      dtype=int64)"
            ]
          },
          "metadata": {
            "tags": []
          },
          "execution_count": 35
        }
      ]
    }
  ]
}